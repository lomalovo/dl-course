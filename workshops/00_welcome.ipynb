{
 "cells": [
  {
   "cell_type": "markdown",
   "metadata": {},
   "source": [
    "### Глубокое обучение: практика\n",
    "\n",
    "Сарапулов Георгий\n",
    "\n",
    "tg: @g_eos\n",
    "\n",
    "Ангени Георгий (ведет у 3 курса СП)\n",
    "\n",
    "tg: @geaned"
   ]
  },
  {
   "cell_type": "markdown",
   "metadata": {},
   "source": [
    "### 1. Введение"
   ]
  },
  {
   "cell_type": "markdown",
   "metadata": {},
   "source": [
    "#### План курса\n",
    "\n",
    "Часть 1. Основы\n",
    "- знакомство с pytorch\n",
    "- общие мотивы: инициализация весов, нормализация активаций, регуляризация\n",
    "\n",
    "Часть 2. Архитектуры\n",
    "- свёрточные сети и работа с изображениями\n",
    "- рекуррентные сети и работа с последовательностями\n",
    "- трансформер\n",
    "- графовые сети и геометрическое глубокое обучение\n",
    "\n",
    "Часть 3. Схемы обучения\n",
    "- Metric learning\n",
    "- Генеративные состязательные сети (GAN)\n",
    "- Вариационные автоэнкодеры (VAE)\n",
    "- Диффузионные модели (DDPM)"
   ]
  },
  {
   "cell_type": "markdown",
   "metadata": {},
   "source": [
    "\n",
    "#### Организационная информация\n",
    "\n",
    "- Основная коммуникация: Telegram-чат курса: https://t.me/+AnPRjOTjAik2ZTMy\n",
    "- Материалы и домашние задания: GitHub: https://github.com/norsage/dl-mcs.git\n",
    "- Оценка за курс: по результатам домашних заданий после каждой практики"
   ]
  },
  {
   "cell_type": "markdown",
   "metadata": {},
   "source": [
    "#### Что понадобится для работы\n",
    "- ноутбук с linux или macos (windows можно, но могут быть проблемы с установкой пакетов)\n",
    "- `conda` (можно установить по инструкции https://docs.conda.io/projects/miniconda/en/latest/index.html#quick-command-line-install)\n",
    "- аккаунт на GitHub (для ваших домашних работ; создайте приватный репозиторий и добавьте https://github.com/norsage в collaborators (Settings -> Collaborators -> Add people))\n",
    "- аккаунт на Kaggle\n",
    "- рекомендовано: IDE (VSCode или PyCharm)"
   ]
  },
  {
   "cell_type": "markdown",
   "metadata": {},
   "source": [
    "#### Подготовка окружения\n",
    "\n",
    "1) Локально с помощью conda\n",
    "\n",
    "   ```bash\n",
    "   # создаём окружение из файла\n",
    "   PIP_EXISTS_ACTION=w conda env create -f environment-linux.yaml\n",
    "   # активируем окружение\n",
    "   conda activate dl-mcs\n",
    "   ```\n",
    "\n",
    "   Запустить ноутбук можно будет как в браузере:\n",
    "   \n",
    "   ```bash\n",
    "   jupyter notebook workshops/01_pytorch_intro.ipynb\n",
    "   ```\n",
    "\n",
    "   так и в VSCode, просто открыв файл и выбрав кернел для исполнения в правом верхнем углу (потребуется поставить расширения `Python` и `Jupyter`)\n",
    "2) Используем Сolab https://colab.research.google.com/ или Kaggle https://www.kaggle.com/"
   ]
  },
  {
   "cell_type": "code",
   "execution_count": 1,
   "metadata": {},
   "outputs": [
    {
     "name": "stdout",
     "output_type": "stream",
     "text": [
      "2.4.0\n",
      "CUDA available: False\n"
     ]
    }
   ],
   "source": [
    "import torch\n",
    "\n",
    "print(torch.__version__)\n",
    "print(f\"CUDA available: {torch.cuda.is_available()}\")"
   ]
  }
 ],
 "metadata": {
  "kernelspec": {
   "display_name": "a3d",
   "language": "python",
   "name": "python3"
  },
  "language_info": {
   "codemirror_mode": {
    "name": "ipython",
    "version": 3
   },
   "file_extension": ".py",
   "mimetype": "text/x-python",
   "name": "python",
   "nbconvert_exporter": "python",
   "pygments_lexer": "ipython3",
   "version": "3.12.5"
  },
  "orig_nbformat": 4
 },
 "nbformat": 4,
 "nbformat_minor": 2
}
