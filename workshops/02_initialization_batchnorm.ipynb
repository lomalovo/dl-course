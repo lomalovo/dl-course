{
 "cells": [
  {
   "cell_type": "markdown",
   "metadata": {},
   "source": [
    "## Как не потерять градиент: функции активации, инициализация, нормализация"
   ]
  },
  {
   "cell_type": "markdown",
   "metadata": {},
   "source": [
    "План на сегодня: разбираем возможные проблемы при обучении\n",
    "1. Инициализация\n",
    "   1. Диагностика проблем:\n",
    "      - начальное распределение выхода\n",
    "      - значения промежуточных активаций и нелинейности с насыщением\n",
    "   2. Настраиваем инициализацию весов\n",
    "2. Нормализация данных"
   ]
  },
  {
   "cell_type": "markdown",
   "metadata": {},
   "source": [
    "Впереди нас ждут разные сложные архитектуры, но перед этим задержимся подольше на MLP, чтобы получить большьше интуитивного понимания об активациях и градиентах в нейронных сетях в процессе обучения\n",
    "\n"
   ]
  },
  {
   "cell_type": "code",
   "execution_count": 1,
   "metadata": {},
   "outputs": [],
   "source": [
    "import torch\n",
    "from torch import nn, Tensor\n",
    "from torch.nn import functional as F\n",
    "import matplotlib.pyplot as plt"
   ]
  },
  {
   "cell_type": "markdown",
   "metadata": {},
   "source": [
    "### 0. Подготовим данные, модель и функции для обучения"
   ]
  },
  {
   "cell_type": "markdown",
   "metadata": {},
   "source": [
    "#### 0.1. Загружаем MNIST и создаём загрузчики данных:"
   ]
  },
  {
   "cell_type": "code",
   "execution_count": 2,
   "metadata": {},
   "outputs": [],
   "source": [
    "from torch.utils.data import DataLoader\n",
    "from torchvision import datasets, transforms\n",
    "\n",
    "train_dataset = datasets.MNIST(\n",
    "    'data', \n",
    "    train=True, \n",
    "    download=True,    \n",
    "    transform=transforms.ToTensor(),\n",
    ")\n",
    "test_dataset = datasets.MNIST(\n",
    "    'data', \n",
    "    train=False, \n",
    "    download=True,\n",
    "    transform=transforms.ToTensor(),\n",
    ")\n",
    "\n",
    "batch_size = 32\n",
    "train_loader = DataLoader(train_dataset, batch_size=batch_size, shuffle=True)\n",
    "test_loader = DataLoader(test_dataset, batch_size=batch_size, shuffle=False)"
   ]
  },
  {
   "cell_type": "markdown",
   "metadata": {},
   "source": [
    "#### 0.2. Задаём архитектуру модели\n",
    "\n",
    "Такая же, как в прошлый раз, но параметры задаём явно и инициализируем значениями из $\\mathcal{N}(0, 1)$"
   ]
  },
  {
   "cell_type": "code",
   "execution_count": 3,
   "metadata": {},
   "outputs": [],
   "source": [
    "class MLP(nn.Module):\n",
    "    def __init__(self, input_dim: int, hidden_dim: int, output_dim: int) -> None:\n",
    "        super().__init__()\n",
    "        self.w1 = nn.Parameter(torch.randn((input_dim, hidden_dim)), requires_grad=True)\n",
    "        self.b1 = nn.Parameter(torch.randn(hidden_dim), requires_grad=True)\n",
    "        self.w2 = nn.Parameter(torch.randn((hidden_dim, output_dim)), requires_grad=True)\n",
    "        self.b2 = nn.Parameter(torch.randn(output_dim), requires_grad=True)\n",
    "\n",
    "    def forward(self, x: Tensor) -> tuple[Tensor, Tensor, Tensor]:\n",
    "        h = x.flatten(1) @ self.w1 + self.b1\n",
    "        h_act = F.tanh(h)\n",
    "        logits = h_act @ self.w2 + self.b2\n",
    "        # помимо логитов, вернём ещё промежуточные активации - они нам понадобятся\n",
    "        return logits, h_act, h\n"
   ]
  },
  {
   "cell_type": "markdown",
   "metadata": {},
   "source": [
    "#### 0.3. Определим функции обучения\n",
    "\n",
    "Всё как обычно, но\n",
    "1. градиенты обновляем вручную\n",
    "2. эпоху ограничиваем сотней батчей - просто для скорости"
   ]
  },
  {
   "cell_type": "code",
   "execution_count": 4,
   "metadata": {},
   "outputs": [],
   "source": [
    "def training_step(batch: tuple[torch.Tensor, torch.Tensor], model: MLP, lr: float = 0.01) -> torch.Tensor:\n",
    "    # прогоняем батч через модель\n",
    "    x, y = batch\n",
    "    logits, *_ = model(x)\n",
    "    # оцениваем значение ошибки\n",
    "    loss = F.cross_entropy(logits, y)\n",
    "    # обновляем параметры\n",
    "    loss.backward()\n",
    "\n",
    "    with torch.no_grad():\n",
    "        for param in model.parameters():\n",
    "            param.data -= lr * param.grad\n",
    "            param.grad = None\n",
    "    # возвращаем значение функции ошибки для логирования\n",
    "    return loss\n",
    "\n",
    "def train_epoch(dataloader: DataLoader, model: MLP, lr: float = 0.01, max_batches: int = 100) -> Tensor:\n",
    "    loss_values: list[float] = []\n",
    "    for i, batch in enumerate(dataloader):\n",
    "        loss = training_step(batch, model, lr)\n",
    "        loss_values.append(loss.item())\n",
    "        if i == max_batches:\n",
    "            break\n",
    "    return torch.tensor(loss_values).mean()\n",
    "\n",
    "def test_epoch(dataloader: DataLoader, model: MLP, max_batches: int = 100) -> Tensor:\n",
    "    loss_values: list[float] = []\n",
    "    for i, batch in enumerate(dataloader):\n",
    "        x, y = batch\n",
    "        with torch.no_grad():\n",
    "            logits, *_ = model(x)\n",
    "        # оцениваем значение ошибки\n",
    "        loss = F.cross_entropy(logits, y)\n",
    "        loss_values.append(loss.item())\n",
    "        if i == max_batches:\n",
    "            break\n",
    "    return torch.tensor(loss_values).mean()"
   ]
  },
  {
   "cell_type": "markdown",
   "metadata": {},
   "source": [
    "### 1. Инициализация"
   ]
  },
  {
   "cell_type": "markdown",
   "metadata": {},
   "source": [
    "#### 1.2. Начальное распределение классов"
   ]
  },
  {
   "cell_type": "markdown",
   "metadata": {},
   "source": [
    "Запустим обучение на несколько эпох и понаблюдаем за изменением ошибки:"
   ]
  },
  {
   "cell_type": "code",
   "execution_count": 5,
   "metadata": {},
   "outputs": [
    {
     "name": "stdout",
     "output_type": "stream",
     "text": [
      "Initial loss: 12.6718\n"
     ]
    }
   ],
   "source": [
    "torch.manual_seed(42)\n",
    "x, y = next(iter(train_loader))\n",
    "input_dim = 784\n",
    "hidden_dim = 128\n",
    "output_dim = len(train_dataset.classes)\n",
    "# создадим модель и выведем значение ошибки после инициализации\n",
    "model = MLP(input_dim, hidden_dim, output_dim)\n",
    "logits, h_act, h = model(x)\n",
    "loss = F.cross_entropy(logits, y)\n",
    "print(f\"Initial loss: {loss:.4f}\")"
   ]
  },
  {
   "cell_type": "code",
   "execution_count": 6,
   "metadata": {},
   "outputs": [
    {
     "name": "stdout",
     "output_type": "stream",
     "text": [
      "Epoch 0 loss = 6.2169\n",
      "Epoch 1 loss = 2.9442\n",
      "Epoch 2 loss = 2.0792\n",
      "Epoch 3 loss = 1.8158\n",
      "Epoch 4 loss = 1.4292\n",
      "Epoch 5 loss = 1.2592\n",
      "Epoch 6 loss = 1.2597\n",
      "Epoch 7 loss = 1.0403\n",
      "Epoch 8 loss = 1.0188\n",
      "Epoch 9 loss = 0.9762\n",
      "Test loss: 1.2467\n"
     ]
    }
   ],
   "source": [
    "n_epochs = 10\n",
    "batches_per_epoch = 100\n",
    "for i in range(n_epochs):\n",
    "    loss = train_epoch(train_loader, model, lr=0.1, max_batches=batches_per_epoch)\n",
    "    print(f\"Epoch {i} loss = {loss:.4f}\")\n",
    "\n",
    "print(f\"Test loss: {test_epoch(test_loader, model, max_batches=batches_per_epoch):.4f}\")"
   ]
  },
  {
   "cell_type": "markdown",
   "metadata": {},
   "source": [
    "Мы стартовали с очень высокого значения ошибки, но уже к третьей эпохе модель сошлась к значению около 2, после чего ошибка уже изменялась понемногу. Почему так?"
   ]
  },
  {
   "cell_type": "markdown",
   "metadata": {},
   "source": [
    "Модель очень неоптимально сконфигурирована на этапе инициализации.\n",
    "Начальный лосс очень далёк от ожидаемого - значит, инициализация точно плохая."
   ]
  },
  {
   "cell_type": "markdown",
   "metadata": {},
   "source": [
    "А какое ожидаемое значение ошибки?\n",
    "\n",
    "$$CrossEntropy(\\hat{y}, y) = - \\sum_i y_i \\log \\hat{y}_i + (1 - y_i) \\log(1 - \\hat{y}_i)$$"
   ]
  },
  {
   "cell_type": "code",
   "execution_count": 7,
   "metadata": {},
   "outputs": [
    {
     "data": {
      "text/plain": [
       "tensor(2.3026)"
      ]
     },
     "execution_count": 7,
     "metadata": {},
     "output_type": "execute_result"
    }
   ],
   "source": [
    "n_classes = 10\n",
    "-torch.tensor(1/n_classes).log()"
   ]
  },
  {
   "cell_type": "markdown",
   "metadata": {},
   "source": [
    "Что же пошло не так?\n",
    "\n",
    "Посмотрим, что происходит с ошибкой в зависимости от значений логитов:"
   ]
  },
  {
   "cell_type": "code",
   "execution_count": 8,
   "metadata": {},
   "outputs": [
    {
     "data": {
      "text/plain": [
       "(tensor([0., 0., 0.]), tensor([0.3333, 0.3333, 0.3333]), tensor(1.0986))"
      ]
     },
     "execution_count": 8,
     "metadata": {},
     "output_type": "execute_result"
    }
   ],
   "source": [
    "logit = torch.tensor([0., 0., 0.])\n",
    "# logit = torch.randn(3) * 10\n",
    "probs = F.softmax(logit, dim=0)\n",
    "correct = 2\n",
    "\n",
    "logit, probs, -probs[correct].log()\n"
   ]
  },
  {
   "cell_type": "markdown",
   "metadata": {},
   "source": [
    "А теперь посмотрим на наши логиты из модели. Что можно сказать о распределении над классами? Что это говорит о нашей инициализации?"
   ]
  },
  {
   "cell_type": "code",
   "execution_count": 9,
   "metadata": {},
   "outputs": [
    {
     "data": {
      "text/plain": [
       "tensor([  4.1134,   2.9905, -12.1505,  12.8240,  -8.0046,  -2.2303,  -8.9362,\n",
       "        -15.0341,  15.1311,  15.6911], grad_fn=<SelectBackward0>)"
      ]
     },
     "execution_count": 9,
     "metadata": {},
     "output_type": "execute_result"
    }
   ],
   "source": [
    "logits[0]"
   ]
  },
  {
   "cell_type": "markdown",
   "metadata": {},
   "source": [
    "Как нам добиться близости к нулю для логитов?"
   ]
  },
  {
   "cell_type": "markdown",
   "metadata": {},
   "source": [
    "**Упражнение**: Вернёмся в `__init__` модели и зададим инициализацию нулями для `b2` и маленькое стандартное отклонение для `w2`, которое обеспечит нам +- равномерное начальное распределение классов.\n",
    "\n",
    "Изменилось ли значение ошибки, когда мы убрали \"лёгкую часть\" задачи?"
   ]
  },
  {
   "cell_type": "markdown",
   "metadata": {},
   "source": [
    "#### 1.2. Значения промежуточных активаций"
   ]
  },
  {
   "cell_type": "markdown",
   "metadata": {},
   "source": [
    "<img src=\"https://www.researchgate.net/profile/Rahul-Jayawardana/publication/350567223/figure/fig3/AS:1007855343767554@1617302847631/Fig-3-The-basic-activation-functions-of-the-neural-networksNeural-Networks.jpg\" style=\"background:white\" width=\"700\"/>"
   ]
  },
  {
   "cell_type": "markdown",
   "metadata": {},
   "source": [
    "В нашей модели мы используем нелинейность `tanh` между линейными слоями.\n",
    "\n",
    "$$\\tanh z = \\frac{e^z - e^{-z}}{e^z + e^{-z}}$$\n",
    "\n",
    "$$\\frac{d(\\tanh z)}{dz} = 1 - \\tanh^2 z$$\n",
    "\n",
    "Что происходит с градиентами при значениях активации близких к $0$? Близких к $1$ и $-1$?"
   ]
  },
  {
   "cell_type": "markdown",
   "metadata": {},
   "source": [
    "Посмотрим на активации после нелинейности, применённой на выходы из первого слоя:"
   ]
  },
  {
   "cell_type": "code",
   "execution_count": 10,
   "metadata": {},
   "outputs": [
    {
     "data": {
      "text/plain": [
       "tensor([-0.9996,  0.9999, -1.0000,  1.0000, -0.6472,  1.0000, -0.9909,  0.8478,\n",
       "        -1.0000,  1.0000, -0.9584,  0.9893, -0.9100, -0.9996, -1.0000, -1.0000,\n",
       "        -0.9999, -1.0000,  1.0000, -0.9648, -0.6903,  0.9627,  0.9999,  0.9999,\n",
       "         1.0000,  1.0000, -0.9813, -0.9998, -1.0000,  1.0000,  0.9821, -1.0000,\n",
       "        -0.7452, -0.9001,  1.0000, -1.0000, -0.9987,  1.0000,  0.9998, -0.9999,\n",
       "        -1.0000, -1.0000,  0.9946,  1.0000,  0.8181,  0.9949, -0.4885, -1.0000,\n",
       "        -1.0000,  0.9996, -0.9820, -1.0000,  0.9273, -1.0000, -0.7985,  1.0000,\n",
       "         0.9984,  0.9994, -1.0000, -1.0000, -1.0000, -0.9832,  1.0000,  1.0000,\n",
       "        -0.9995, -1.0000,  0.9743,  1.0000,  1.0000,  0.9997,  1.0000, -0.9997,\n",
       "        -0.7154, -1.0000,  1.0000, -1.0000, -0.8156, -1.0000,  1.0000,  0.2244,\n",
       "         1.0000,  1.0000,  0.9784,  0.9963, -1.0000,  0.9795, -0.8716,  1.0000,\n",
       "        -1.0000,  1.0000, -1.0000,  0.9678, -1.0000,  0.8436,  0.8159, -1.0000,\n",
       "         0.9996,  0.7441, -0.8775, -0.9998,  0.9967, -0.1164, -1.0000, -0.0561,\n",
       "         1.0000,  1.0000,  0.9997,  0.5745, -0.9480, -0.9998,  0.7597, -1.0000,\n",
       "         0.9998,  1.0000, -0.1100, -1.0000, -0.9991,  0.9947, -0.9914, -0.0953,\n",
       "        -1.0000, -1.0000, -0.9999, -1.0000, -0.9990, -1.0000,  0.7605,  0.6487],\n",
       "       grad_fn=<SelectBackward0>)"
      ]
     },
     "execution_count": 10,
     "metadata": {},
     "output_type": "execute_result"
    }
   ],
   "source": [
    "h_act[0]"
   ]
  },
  {
   "cell_type": "code",
   "execution_count": 11,
   "metadata": {},
   "outputs": [
    {
     "data": {
      "image/png": "[encoded data removed]",
      "text/plain": [
       "<Figure size 640x480 with 1 Axes>"
      ]
     },
     "metadata": {},
     "output_type": "display_data"
    }
   ],
   "source": [
    "import matplotlib.pyplot as plt\n",
    "plt.hist(h_act.flatten().tolist(), 20, density=True)\n",
    "plt.show()"
   ]
  },
  {
   "cell_type": "markdown",
   "metadata": {},
   "source": [
    "<!-- Это тот самый \"vanishing gradient\", о котором мы ещё услышим позже, когда будем говорить про рекуррентные сети -->"
   ]
  },
  {
   "cell_type": "markdown",
   "metadata": {},
   "source": [
    "Посмотрим на масштаб проблемы:"
   ]
  },
  {
   "cell_type": "code",
   "execution_count": 12,
   "metadata": {},
   "outputs": [
    {
     "data": {
      "text/plain": [
       "<matplotlib.image.AxesImage at 0x1755658b0>"
      ]
     },
     "execution_count": 12,
     "metadata": {},
     "output_type": "execute_result"
    },
    {
     "data": {
      "image/png": "[encoded data removed]",
      "text/plain": [
       "<Figure size 1000x2000 with 1 Axes>"
      ]
     },
     "metadata": {},
     "output_type": "display_data"
    }
   ],
   "source": [
    "plt.figure(figsize=(10, 20))\n",
    "plt.imshow(h_act.abs() > 0.99, cmap=\"gray\")"
   ]
  },
  {
   "cell_type": "markdown",
   "metadata": {},
   "source": [
    "Градиент будет уничтожен везде, где у нас белый пиксел.\n",
    "\n",
    "А если найдётся целиком белый столбец?"
   ]
  },
  {
   "cell_type": "markdown",
   "metadata": {},
   "source": [
    "\n",
    "\n",
    "Ответ: мы получим \"мёртвый нейрон\"!"
   ]
  },
  {
   "cell_type": "markdown",
   "metadata": {},
   "source": [
    "**Упражнение**: Вернёмся в `__init__` модели и подберём стандартное отклонение для `w1`, которое даст нам красивое значение для гистограммы активаций (+- равномерно на интервале (-1, 1) с небольшими пиками около границ интервала) и картинку для активаций батча, где будет совсем немного белых пикселей."
   ]
  },
  {
   "cell_type": "markdown",
   "metadata": {},
   "source": [
    "#### 1.3. А как правильно?"
   ]
  },
  {
   "cell_type": "markdown",
   "metadata": {},
   "source": [
    "Посмотрим, что происходит с распределением значений, когда мы перемножаем две матрицы, инициализированные стандартным нормальным распределением:"
   ]
  },
  {
   "cell_type": "code",
   "execution_count": 13,
   "metadata": {},
   "outputs": [
    {
     "name": "stdout",
     "output_type": "stream",
     "text": [
      "tensor(0.0068) tensor(1.0001)\n",
      "tensor(0.0030) tensor(3.1896)\n"
     ]
    },
    {
     "data": {
      "image/png": "[encoded data removed]",
      "text/plain": [
       "<Figure size 700x300 with 2 Axes>"
      ]
     },
     "metadata": {},
     "output_type": "display_data"
    }
   ],
   "source": [
    "x = torch.randn(1000, 10)\n",
    "w = torch.randn(10, 200)\n",
    "y =  x @ w\n",
    "print(x.mean(), x.std())\n",
    "print(y.mean(), y.std())\n",
    "fig, (ax1, ax2) = plt.subplots(1, 2, figsize=(7, 3))\n",
    "ax1.hist(x.flatten().tolist(), 20, density=True)\n",
    "ax2.hist(y.flatten().tolist(), 20, density=True)\n",
    "plt.show()\n"
   ]
  },
  {
   "cell_type": "markdown",
   "metadata": {},
   "source": [
    "Распределение расползлось, как исправить?"
   ]
  },
  {
   "cell_type": "markdown",
   "metadata": {},
   "source": [
    "\n",
    "Ответ: Оказывается, нужно разделить на $\\sqrt{d_{input}}$"
   ]
  },
  {
   "cell_type": "markdown",
   "metadata": {},
   "source": [
    "**Упражнение**: какое распределение имеет $y = w^T x$, где $x, w \\sim \\mathcal{N}(0, \\mathbb{I}_n)$?"
   ]
  },
  {
   "cell_type": "markdown",
   "metadata": {},
   "source": [
    "На практике этого достаточно, но если хочется предельной точности: https://pytorch.org/docs/stable/nn.init.html\n",
    "   $$\\text{std} = \\frac{\\text{gain}(f_{act})}{\\sqrt{\\text{fan mode}}}$$\n",
    "\n",
    "Пример статьи с обоснованием для ReLU и PReLU:\n",
    "\n",
    "[Kaiming He et al. Delving Deep into Rectifiers: Surpassing Human-Level Performance on ImageNet Classification](https://arxiv.org/abs/1502.01852)\n",
    "\n",
    "\n",
    "\n",
    "\n"
   ]
  },
  {
   "cell_type": "code",
   "execution_count": 14,
   "metadata": {},
   "outputs": [
    {
     "data": {
      "text/plain": [
       "0.1473139127471974"
      ]
     },
     "execution_count": 14,
     "metadata": {},
     "output_type": "execute_result"
    }
   ],
   "source": [
    "torch.nn.init.calculate_gain('tanh') / hidden_dim**0.5"
   ]
  },
  {
   "cell_type": "markdown",
   "metadata": {},
   "source": [
    "Посмотрим, есть ли проблемы с встроенным слоем `torch.nn.Linear`"
   ]
  },
  {
   "cell_type": "code",
   "execution_count": 15,
   "metadata": {},
   "outputs": [],
   "source": [
    "class MLP(nn.Module):\n",
    "    def __init__(self, input_dim: int, hidden_dim: int, output_dim: int) -> None:\n",
    "        super().__init__()\n",
    "        self.l1 = nn.Linear(input_dim, hidden_dim)\n",
    "        self.l2 = nn.Linear(hidden_dim, output_dim)\n",
    "\n",
    "        # torch.nn.init.kaiming_normal_(self.l1.weight, nonlinearity='tanh')\n",
    "        # torch.nn.init.uniform_(self.l1.bias, -1, 1)\n",
    "        # torch.nn.init.kaiming_normal_(self.l2.weight, nonlinearity='linear')\n",
    "\n",
    "    def forward(self, x: Tensor) -> tuple[Tensor, Tensor, Tensor]:\n",
    "        h = self.l1(x.flatten(1))\n",
    "        h_act = F.tanh(h)\n",
    "        logits = self.l2(h_act)\n",
    "        return logits, h_act, h"
   ]
  },
  {
   "cell_type": "code",
   "execution_count": 16,
   "metadata": {},
   "outputs": [
    {
     "name": "stdout",
     "output_type": "stream",
     "text": [
      "Initial loss: 2.3116\n",
      "Epoch 0 loss = 1.1166\n",
      "Epoch 1 loss = 0.5111\n",
      "Epoch 2 loss = 0.4220\n",
      "Epoch 3 loss = 0.3741\n",
      "Epoch 4 loss = 0.3784\n",
      "Epoch 5 loss = 0.3524\n",
      "Epoch 6 loss = 0.3013\n",
      "Epoch 7 loss = 0.3255\n",
      "Epoch 8 loss = 0.3155\n",
      "Epoch 9 loss = 0.3043\n",
      "Test loss: 0.3521\n"
     ]
    }
   ],
   "source": [
    "torch.manual_seed(42)\n",
    "x, y = next(iter(train_loader))\n",
    "# создадим модель и выведем значение ошибки после инициализации\n",
    "model = MLP(input_dim, hidden_dim, output_dim)\n",
    "logits, h_act, h = model(x)\n",
    "loss = F.cross_entropy(logits, y)\n",
    "print(f\"Initial loss: {loss:.4f}\")\n",
    "\n",
    "n_epochs = 10\n",
    "batches_per_epoch = 100\n",
    "for i in range(n_epochs):\n",
    "    loss = train_epoch(train_loader, model, lr=0.1, max_batches=batches_per_epoch)\n",
    "    print(f\"Epoch {i} loss = {loss:.4f}\")\n",
    "\n",
    "print(f\"Test loss: {test_epoch(test_loader, model, max_batches=batches_per_epoch):.4f}\")"
   ]
  },
  {
   "cell_type": "markdown",
   "metadata": {},
   "source": [
    "Явных проблем нет: инициализация по умолчанию настроена хорошо (и мы можем посмотреть, как именно)\n",
    "\n",
    "Попробуем сделать ещё лучше?"
   ]
  },
  {
   "cell_type": "markdown",
   "metadata": {},
   "source": [
    "#### Резюме\n",
    "1. Проблемы с внутренними активациями возникают не только на инициализации, но и в процессе оптимизации - один большой шаг в неправильную сторону может убить нейрон (в случае с ReLU - навсегда)\n",
    "2. В маленьких моделях проблемы инициализации не так критичны - сеть в итоге обучится, просто потребуется больше времени.\n",
    "3. Чем глубже сеть (больше слоёв) - тем больше проблем\n",
    "4. В последние годы добавилось много трюков, которые сделали инициализацию менее критичной:\n",
    "   1. residual connections\n",
    "   2. normalization layers (batch, layer, group)\n",
    "   3. лучшие оптимизаторы (RMSProp, Adam)"
   ]
  },
  {
   "cell_type": "markdown",
   "metadata": {},
   "source": [
    "### 2. Нормализация"
   ]
  },
  {
   "cell_type": "markdown",
   "metadata": {},
   "source": [
    "[Ioffe, Szegedy (2015). Batch Normalization: Accelerating Deep Network Training by Reducing Internal Covariate Shift](https://arxiv.org/abs/1502.03167)"
   ]
  },
  {
   "cell_type": "markdown",
   "metadata": {},
   "source": [
    "Хотим, чтобы активации не были ни слишком малыми, ни слишком большими, и были близки к стандартному нормальному распределению"
   ]
  },
  {
   "cell_type": "markdown",
   "metadata": {},
   "source": [
    "Идея: а давайте просто возьмём активации в батче, вычтем среднее и поделим на стандартное отклонение!"
   ]
  },
  {
   "cell_type": "markdown",
   "metadata": {},
   "source": [
    "<img src=\"https://kharshit.github.io/img/batch_normalization.png\" style=\"background:white\" width=\"500\"/>"
   ]
  },
  {
   "cell_type": "markdown",
   "metadata": {},
   "source": [
    "Какой ценой? Теперь значение активаций для одного примера уже не детерминировано - оно зависит также от других примеров в батче, который формируется случайным образом. \n",
    "\n",
    "Внезапно, это не так уж плохо: мы учим сеть быть устойчивой к небольшим вариациям входных данных.\n",
    "\n",
    "Но как теперь получать предсказания для одного изолированного примера?"
   ]
  },
  {
   "cell_type": "markdown",
   "metadata": {},
   "source": [
    "Идея: копить статистику на обучении, на предсказании использовать её.\n",
    "\n",
    "То есть впервые у нас поведение модели на обучении и валидации отличается!\n",
    "\n",
    "Поэтому для `torch.nn.Module` определено поле `training: bool`, которое указывает, в каком состоянии находится модуль.\n",
    "\n",
    "Переключение: `model.train()` $\\leftrightarrow$ `model.eval()`"
   ]
  },
  {
   "cell_type": "code",
   "execution_count": 17,
   "metadata": {},
   "outputs": [],
   "source": [
    "class BatchNorm1d(nn.Module):\n",
    "    def __init__(self, num_features: int, momentum: float = 0.9, eps: float = 1e-5) -> None:\n",
    "        super().__init__()\n",
    "        self.scale = nn.Parameter(torch.ones(num_features))\n",
    "        self.shift = nn.Parameter(torch.zeros(num_features))\n",
    "        self.register_buffer('running_mean', torch.zeros(num_features))\n",
    "        self.register_buffer('running_var', torch.ones(num_features))\n",
    "        self.momentum = momentum\n",
    "        self.eps = eps\n",
    "\n",
    "    def forward(self, x: Tensor) -> Tensor:\n",
    "        if self.training:\n",
    "            ...\n",
    "        ..."
   ]
  },
  {
   "cell_type": "code",
   "execution_count": 18,
   "metadata": {},
   "outputs": [],
   "source": [
    "class MLP(nn.Module):\n",
    "    def __init__(self, input_dim: int, hidden_dim: int, output_dim: int) -> None:\n",
    "        super().__init__()\n",
    "        self.l1 = nn.Linear(input_dim, hidden_dim)\n",
    "        self.l2 = nn.Linear(hidden_dim, output_dim)\n",
    "        self.bn = BatchNorm1d(hidden_dim)\n",
    "\n",
    "    def forward(self, x: Tensor) -> tuple[Tensor, Tensor, Tensor]:\n",
    "        ..."
   ]
  }
 ],
 "metadata": {
  "kernelspec": {
   "display_name": "dl-course",
   "language": "python",
   "name": "python3"
  },
  "language_info": {
   "codemirror_mode": {
    "name": "ipython",
    "version": 3
   },
   "file_extension": ".py",
   "mimetype": "text/x-python",
   "name": "python",
   "nbconvert_exporter": "python",
   "pygments_lexer": "ipython3",
   "version": "3.12.5"
  },
  "orig_nbformat": 4
 },
 "nbformat": 4,
 "nbformat_minor": 2
}
