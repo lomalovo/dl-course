{
 "cells": [
  {
   "cell_type": "markdown",
   "metadata": {},
   "source": [
    "## Основы pytorch"
   ]
  },
  {
   "cell_type": "markdown",
   "metadata": {},
   "source": [
    "Для выполнения ДЗ создайте приватный репозиторий и добавьте `https://github.com/norsage` в collaborators (Settings -> Collaborators -> Add people)"
   ]
  },
  {
   "cell_type": "code",
   "execution_count": 1,
   "metadata": {},
   "outputs": [],
   "source": [
    "import torch"
   ]
  },
  {
   "cell_type": "markdown",
   "metadata": {},
   "source": [
    "#### 1. Операции над тензорами (1 балл)"
   ]
  },
  {
   "cell_type": "markdown",
   "metadata": {},
   "source": [
    "##### 1.1 Среднее значение по столбцам"
   ]
  },
  {
   "cell_type": "code",
   "execution_count": 2,
   "metadata": {},
   "outputs": [
    {
     "data": {
      "text/plain": [
       "tensor([[2., 7., 6.],\n",
       "        [4., 6., 5.]])"
      ]
     },
     "execution_count": 2,
     "metadata": {},
     "output_type": "execute_result"
    }
   ],
   "source": [
    "torch.manual_seed(42)\n",
    "x = torch.randint(10, size=(2, 3)).float()\n",
    "x"
   ]
  },
  {
   "cell_type": "code",
   "execution_count": 3,
   "metadata": {},
   "outputs": [],
   "source": [
    "mean_by_row = x.mean(dim=0)\n",
    "assert torch.allclose(\n",
    "    mean_by_row, _expected := torch.tensor([3.0, 6.5, 5.5])\n",
    "), f\"{mean_by_row} != {_expected}\""
   ]
  },
  {
   "cell_type": "markdown",
   "metadata": {},
   "source": [
    "##### 1.2. Взвешенное среднее\n",
    "В тензоре `w` находятся ненормализованные веса для расчёта взвешенных средних тензора `x` по строкам.\n",
    "\n",
    "Найдите эти взвешенные средние, получая нормализованные веса с помощью функции `torch.softmax` (или метода `.softmax`)"
   ]
  },
  {
   "cell_type": "code",
   "execution_count": 4,
   "metadata": {},
   "outputs": [
    {
     "name": "stdout",
     "output_type": "stream",
     "text": [
      "tensor([[2., 7., 6.],\n",
      "        [4., 6., 5.]])\n",
      "tensor([[0., 4., 0.],\n",
      "        [3., 8., 4.]])\n"
     ]
    }
   ],
   "source": [
    "torch.manual_seed(42)\n",
    "x = torch.randint(10, size=(2, 3)).float()\n",
    "w = torch.randint(10, size=(2, 3)).float()\n",
    "print(x)\n",
    "print(w)"
   ]
  },
  {
   "cell_type": "code",
   "execution_count": 5,
   "metadata": {},
   "outputs": [],
   "source": [
    "w_avg = torch.sum(w.softmax(dim = 1) * x, dim=1)\n",
    "assert torch.allclose(\n",
    "    w_avg, _expected := torch.tensor([6.8940, 5.9690])\n",
    "), f\"{w_avg} != {_expected}\""
   ]
  },
  {
   "cell_type": "markdown",
   "metadata": {},
   "source": [
    "##### 1.3. Умножение матриц на векторы\n",
    "\n",
    "В тензоре `m` - две матрицы, нужно сделать тензор, в котором i-й элемент - результат умножения матрицы `m[i]` на вектор `x[i]`.\n",
    "\n",
    "Это можно было бы сделать так: `torch.stack([m[i] @ x[i] for i in len(m)])`.\n",
    "\n",
    "Попробуйте найти решение без цикла."
   ]
  },
  {
   "cell_type": "code",
   "execution_count": 6,
   "metadata": {},
   "outputs": [
    {
     "name": "stdout",
     "output_type": "stream",
     "text": [
      "tensor([[[0., 4., 0.],\n",
      "         [3., 8., 4.],\n",
      "         [0., 4., 1.]],\n",
      "\n",
      "        [[2., 5., 5.],\n",
      "         [7., 6., 9.],\n",
      "         [6., 3., 1.]]])\n",
      "tensor([[2., 7., 6.],\n",
      "        [4., 6., 5.]])\n"
     ]
    }
   ],
   "source": [
    "torch.manual_seed(42)\n",
    "x = torch.randint(10, size=(2, 3)).float()\n",
    "m = torch.randint(10, size=(2, 3, 3)).float()\n",
    "print(m)\n",
    "print(x)"
   ]
  },
  {
   "cell_type": "code",
   "execution_count": 7,
   "metadata": {},
   "outputs": [],
   "source": [
    "matmul = (m @ x.reshape(2, 3, 1)).reshape(2, 3)\n",
    "assert torch.allclose(\n",
    "    matmul, _expected := torch.tensor([[28.0, 86.0, 34.0], [63.0, 109.0, 47.0]])\n",
    "), f\"{matmul} != {_expected}\""
   ]
  },
  {
   "cell_type": "markdown",
   "metadata": {},
   "source": [
    "##### 1.4. Матрица попарных расстояний\n",
    "\n",
    "Даны две матрицы `x` и `y`, нужно получить матрицу `d`, где `d[i, j]` - евклидово расстояние между векторами `x[i]` и `y[j]`.\n",
    "\n",
    "Подсказка 1: воспользуйтесь broadcasting и добавлением размерностей в исходные тензоры.\n",
    "\n",
    "Подсказка 2: можно не считать евклидово расстояние вручную, есть функция `torch.linalg.norm`\n",
    "\n"
   ]
  },
  {
   "cell_type": "code",
   "execution_count": 8,
   "metadata": {},
   "outputs": [
    {
     "name": "stdout",
     "output_type": "stream",
     "text": [
      "tensor([[2., 7., 6.],\n",
      "        [4., 6., 5.]])\n",
      "tensor([[0., 4., 0.],\n",
      "        [3., 8., 4.],\n",
      "        [0., 4., 1.]])\n"
     ]
    }
   ],
   "source": [
    "torch.manual_seed(42)\n",
    "x = torch.randint(10, size=(2, 3)).float()\n",
    "y = torch.randint(10, size=(3, 3)).float()\n",
    "print(x)\n",
    "print(y)"
   ]
  },
  {
   "cell_type": "code",
   "execution_count": 9,
   "metadata": {},
   "outputs": [],
   "source": [
    "pdist = torch.linalg.norm(x.reshape(2, 1, 3) - y, dim = 2)\n",
    "assert torch.allclose(\n",
    "    pdist,\n",
    "    _expected := torch.tensor([[7.0000, 2.4495, 6.1644], [6.7082, 2.4495, 6.0000]]),\n",
    "), f\"{pdist} != {_expected}\""
   ]
  },
  {
   "cell_type": "markdown",
   "metadata": {},
   "source": [
    "#### 2. Функция Power (1 балл)\n",
    "Используя сложение и умножение, реализуйте возведение в целочисленную степень FloatTensor как функцию autograd (т.е. наследника `torch.autograd.Function`)"
   ]
  },
  {
   "cell_type": "code",
   "execution_count": 10,
   "metadata": {},
   "outputs": [],
   "source": [
    "class Power(torch.autograd.Function):\n",
    "    @staticmethod\n",
    "    def forward(tensor, p):\n",
    "        result = torch.ones_like(tensor)\n",
    "        if p == 0:\n",
    "            return result\n",
    "        elif p > 0:\n",
    "            for _ in range(p):\n",
    "                result = result * tensor\n",
    "        else:\n",
    "            for _ in range(-p):\n",
    "                result = result / tensor\n",
    "\n",
    "        return result\n",
    "\n",
    "    @staticmethod\n",
    "    def setup_context(ctx, inputs, output):\n",
    "        # ctx is a context object that can be used to stash information\n",
    "        # for backward computation\n",
    "        tensor, p = inputs\n",
    "        ctx.p = p\n",
    "        ctx.tensor = tensor\n",
    "\n",
    "    @staticmethod\n",
    "    def backward(ctx, grad_output):\n",
    "        tensor, p = ctx.tensor, ctx.p\n",
    "        grad_tensor = torch.ones_like(tensor)\n",
    "\n",
    "        if p > 0:\n",
    "            for i in range(p - 1):\n",
    "                grad_tensor = grad_tensor * tensor\n",
    "            return grad_output * grad_tensor * p, None\n",
    "        elif p < 0:\n",
    "            for i in range(-p + 1):\n",
    "                grad_tensor = grad_tensor / tensor\n",
    "            return grad_output * grad_tensor * p, None\n",
    "        else:\n",
    "            return grad_output.zero_(), None"
   ]
  },
  {
   "cell_type": "code",
   "execution_count": 11,
   "metadata": {},
   "outputs": [],
   "source": [
    "x = torch.tensor(3.0, requires_grad=True)\n",
    "y = Power.apply(x, 2)\n",
    "y.backward()\n",
    "\n",
    "a = torch.tensor(3.0, requires_grad=True)\n",
    "b = a ** 2\n",
    "b.backward()\n",
    "\n",
    "assert torch.all(x.grad == a.grad)\n",
    "\n",
    "x = torch.tensor(3.0, requires_grad=True)\n",
    "y = Power.apply(x, -2)\n",
    "y.backward()\n",
    "\n",
    "a = torch.tensor(3.0, requires_grad=True)\n",
    "b = a ** -2\n",
    "b.backward()\n",
    "\n",
    "assert torch.all(x.grad == a.grad)\n",
    "\n",
    "x = torch.tensor(3.0, requires_grad=True)\n",
    "y = Power.apply(x, 0)\n",
    "y.backward()\n",
    "\n",
    "a = torch.tensor(3.0, requires_grad=True)\n",
    "b = a ** 0\n",
    "b.backward()\n",
    "\n",
    "assert torch.all(x.grad == a.grad)"
   ]
  },
  {
   "cell_type": "code",
   "execution_count": 12,
   "metadata": {},
   "outputs": [],
   "source": [
    "assert torch.all(Power.apply(torch.tensor([1, 2, 3]), 0) == torch.tensor([1, 1, 1]))\n",
    "assert torch.all(Power.apply(torch.tensor([1, 2, 3]), 2) == torch.tensor([1, 4, 9]))"
   ]
  },
  {
   "cell_type": "markdown",
   "metadata": {},
   "source": [
    "#### 3. Многочлен (3 балла)\n",
    "Найдите корень (он один) заданного полинома (очень хорошего!) с точностью до пяти знаков после запятой:\n",
    "1. Используя бинарный поиск https://en.wikipedia.org/wiki/Binary_search_algorithm\n",
    "2. Используя метод Ньютона https://en.wikipedia.org/wiki/Newton%27s_method\n",
    "   \n",
    "   Задаётся начальное приближение вблизи предположительного корня, после чего строится касательная к графику исследуемой функции в точке приближения, для которой находится пересечение с осью абсцисс. Эта точка берётся в качестве следующего приближения. И так далее, пока не будет достигнута необходимая точность.\n",
    "   \n",
    "   (hint: для вычисления производных используйте метод `backward()`)\n",
    "   \n",
    "   $x_{n+1} = x_{n} - \\frac{f(x_n)}{f'(x_n)}$\n",
    "\n",
    "Сравните скорость методов с помощью `%%timeit`, т.е. оцените, какой из них найдёт ответ быстрее"
   ]
  },
  {
   "cell_type": "code",
   "execution_count": 13,
   "metadata": {},
   "outputs": [],
   "source": [
    "from typing import Callable\n",
    "\n",
    "Polynomial = Callable[[torch.FloatTensor], torch.FloatTensor]\n",
    "\n",
    "\n",
    "def poly(x: torch.FloatTensor) -> torch.FloatTensor:\n",
    "    return x**7 + 5 * x**3 + 17 * x - 9"
   ]
  },
  {
   "cell_type": "code",
   "execution_count": 14,
   "metadata": {},
   "outputs": [],
   "source": [
    "def bin_search_find_zero(poly: Polynomial) -> torch.FloatTensor:\n",
    "    \"\"\"Функция для бинарного поиска\"\"\"\n",
    "    tol = torch.tensor(10**-5)\n",
    "\n",
    "    low = torch.tensor(-10)\n",
    "    high = torch.tensor(10)\n",
    "\n",
    "    while high - low > tol:\n",
    "        mid = (low + high) / 2\n",
    "        if poly(mid) == 0:\n",
    "            return mid\n",
    "        elif poly(mid) > 0:\n",
    "            high = mid\n",
    "        else:\n",
    "            low = mid\n",
    "\n",
    "    return (low + high) / 2"
   ]
  },
  {
   "cell_type": "code",
   "execution_count": 15,
   "metadata": {},
   "outputs": [],
   "source": [
    "def newton_find_zero(poly: Polynomial) -> torch.FloatTensor:\n",
    "    \"\"\"Функция для метода Ньютона\"\"\"\n",
    "\n",
    "    # первое приближение (не забываем про то, что понадобится градиент!)\n",
    "    x = torch.tensor(0.0, requires_grad=True).float()\n",
    "\n",
    "    # останавливаемся, если значение функции достаточно близко к нулю\n",
    "    tol = 10**-5\n",
    "\n",
    "    # значение\n",
    "    val = poly(x)\n",
    "\n",
    "    # цикл обновления\n",
    "    while abs(val) > tol:  # когда останавливаемся?\n",
    "        val.backward()\n",
    "\n",
    "        with torch.no_grad():\n",
    "            x -= val / x.grad\n",
    "\n",
    "        x.grad = None \n",
    "        \n",
    "        val = poly(x)\n",
    "        \n",
    "    return x"
   ]
  },
  {
   "cell_type": "code",
   "execution_count": 16,
   "metadata": {},
   "outputs": [
    {
     "name": "stdout",
     "output_type": "stream",
     "text": [
      "tensor(0.4936)\n",
      "tensor(-9.5367e-07)\n"
     ]
    }
   ],
   "source": [
    "x = bin_search_find_zero(poly)\n",
    "print(x)\n",
    "print(poly(x))"
   ]
  },
  {
   "cell_type": "code",
   "execution_count": 17,
   "metadata": {},
   "outputs": [
    {
     "name": "stdout",
     "output_type": "stream",
     "text": [
      "tensor(0.4936, requires_grad=True)\n",
      "tensor(1.9073e-06, grad_fn=<SubBackward0>)\n"
     ]
    }
   ],
   "source": [
    "x = newton_find_zero(poly)\n",
    "print(x)\n",
    "print(poly(x))"
   ]
  },
  {
   "cell_type": "code",
   "execution_count": 18,
   "metadata": {},
   "outputs": [
    {
     "name": "stdout",
     "output_type": "stream",
     "text": [
      "258 μs ± 3.99 μs per loop (mean ± std. dev. of 7 runs, 1,000 loops each)\n"
     ]
    }
   ],
   "source": [
    "%%timeit\n",
    "x = newton_find_zero(poly)"
   ]
  },
  {
   "cell_type": "code",
   "execution_count": 19,
   "metadata": {},
   "outputs": [
    {
     "name": "stdout",
     "output_type": "stream",
     "text": [
      "916 μs ± 26.9 μs per loop (mean ± std. dev. of 7 runs, 1,000 loops each)\n"
     ]
    }
   ],
   "source": [
    "%%timeit\n",
    "x = bin_search_find_zero(poly)"
   ]
  }
 ],
 "metadata": {
  "kernelspec": {
   "display_name": "a3d",
   "language": "python",
   "name": "python3"
  },
  "language_info": {
   "codemirror_mode": {
    "name": "ipython",
    "version": 3
   },
   "file_extension": ".py",
   "mimetype": "text/x-python",
   "name": "python",
   "nbconvert_exporter": "python",
   "pygments_lexer": "ipython3",
   "version": "3.12.5"
  },
  "orig_nbformat": 4
 },
 "nbformat": 4,
 "nbformat_minor": 2
}
