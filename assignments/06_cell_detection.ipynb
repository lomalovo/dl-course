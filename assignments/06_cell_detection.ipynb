{
 "cells": [
  {
   "cell_type": "markdown",
   "metadata": {},
   "source": [
    "## Детекция клеток"
   ]
  },
  {
   "cell_type": "markdown",
   "metadata": {},
   "source": [
    "Ваша задача: обучить YOLO для детекции дрожжевых клеток и микроструктур (см. [07_object_detection.ipynb](../workshops/07_object_detection.ipynb)). Всё необходимое для запуска обучения вы можете взять из ноутбука с практикой, доделать нужно будет самую малость:\n",
    "- реализовать расчёт Mean Average Precision для всего валидационного сета\n",
    "- попробовать привести regression loss к виду, который используется в Yolo9000 и YoloV3\n",
    "- подобрать лучшие размеры якорных рамок с помощью кластеризации\n",
    "\n",
    "Основная цель: любыми средствами добиться $mAP > 0.6$ на валидации.\n",
    "\n",
    "Используйте класс `torchmetrics.detection.MeanAveragePrecision` для расчёта $mAP$.\n",
    "\n",
    "Нас будет интересовать именно значение `map` в словаре со всеми метриками - это mean average precision, усреднённый по всем отсечкам intersection over union в диапазоне $[0.5, 0.95]$ (см. документацию к классу).\n",
    "\n",
    "При решении можно пользоваться `lightning` или писать цикл обучения вручную. В последнем случае не забудьте вручную отправить модель и батчи на GPU, чтобы обучалось быстрее"
   ]
  },
  {
   "cell_type": "code",
   "execution_count": 59,
   "metadata": {},
   "outputs": [],
   "source": [
    "# ! wget https://tudatalib.ulb.tu-darmstadt.de/bitstream/handle/tudatalib/3799/yeast_cell_in_microstructures_dataset.zip\n",
    "# ! unzip yeast_cell_in_microstructures_dataset.zip -d yeast_cell_in_microstructures_dataset"
   ]
  },
  {
   "cell_type": "code",
   "execution_count": 60,
   "metadata": {},
   "outputs": [
    {
     "data": {
      "text/plain": [
       "<torch._C.Generator at 0x1335225b0>"
      ]
     },
     "execution_count": 60,
     "metadata": {},
     "output_type": "execute_result"
    }
   ],
   "source": [
    "from pathlib import Path\n",
    "\n",
    "import matplotlib.patches as patches\n",
    "import matplotlib.pyplot as plt\n",
    "import numpy as np\n",
    "import torch\n",
    "from matplotlib.figure import Figure\n",
    "from torch import Tensor, nn\n",
    "from torch.utils.data import DataLoader, Dataset\n",
    "from torchmetrics.functional.detection import intersection_over_union\n",
    "from torchvision.ops.boxes import box_convert\n",
    "torch.manual_seed(42)"
   ]
  },
  {
   "cell_type": "code",
   "execution_count": 61,
   "metadata": {},
   "outputs": [],
   "source": [
    "device = torch.device(\"mps:0\")"
   ]
  },
  {
   "cell_type": "code",
   "execution_count": 62,
   "metadata": {},
   "outputs": [],
   "source": [
    "def process_yolo_preds(preds: Tensor, rescaled_anchors: Tensor) -> tuple[Tensor, Tensor, Tensor]:\n",
    "    \"\"\"\n",
    "    Преобразование выходов модели в\n",
    "    1. Логит наличия объекта (вероятность получается применением сигмоиды)\n",
    "    2. Положение рамки относительно ячейки в формате cxcywh\n",
    "    3. Логиты классов (вероятности получаются применением softmax)\n",
    "    \"\"\"\n",
    "    rescaled_anchors = rescaled_anchors.view(1, len(rescaled_anchors), 1, 1, 2)\n",
    "    box_predictions = preds[..., 1:5].clone()\n",
    "\n",
    "    box_predictions[..., 0:2] = torch.sigmoid(box_predictions[..., 0:2])\n",
    "    box_predictions[..., 2:] = torch.exp(box_predictions[..., 2:]) * rescaled_anchors\n",
    "\n",
    "    scores = preds[..., 0:1]\n",
    "    return scores, box_predictions, preds[..., 5:]"
   ]
  },
  {
   "cell_type": "code",
   "execution_count": 64,
   "metadata": {},
   "outputs": [],
   "source": [
    "GRID_SIZE = 8\n",
    "IMAGE_SIZE = 256\n",
    "ANCHORS = [\n",
    "    [48, 72],\n",
    "    # [64, 64],\n",
    "    # [72, 48],\n",
    "]\n",
    "\n",
    "rescaled_anchors = torch.tensor(ANCHORS).to(device=device) / IMAGE_SIZE * GRID_SIZE"
   ]
  },
  {
   "cell_type": "code",
   "execution_count": 65,
   "metadata": {},
   "outputs": [
    {
     "name": "stdout",
     "output_type": "stream",
     "text": [
      "109431\n"
     ]
    }
   ],
   "source": [
    "class CNNBlock(nn.Module):\n",
    "    def __init__(self, in_channels: int, out_channels: int, **kwargs):\n",
    "        super().__init__()\n",
    "        self.conv = nn.Conv2d(in_channels, out_channels, bias=False, **kwargs)\n",
    "        self.bn = nn.BatchNorm2d(out_channels)\n",
    "        self.activation = nn.LeakyReLU(0.1)\n",
    "\n",
    "    def forward(self, x):\n",
    "        x = self.conv(x)\n",
    "        x = self.bn(x)\n",
    "        return self.activation(x)\n",
    "\n",
    "class TinyYOLO(nn.Module):\n",
    "    def __init__(self, num_classes: int = 2, num_anchors: int = 1, in_channels: int = 1) -> None:\n",
    "        super().__init__()\n",
    "        self.num_classes = num_classes\n",
    "        self.in_channels = in_channels\n",
    "        self.num_anchors = num_anchors\n",
    "        self.layers = nn.Sequential(\n",
    "            CNNBlock(1, 16, kernel_size=3, stride=2, padding=1, dilation=2),\n",
    "            CNNBlock(16, 32, kernel_size=3, stride=2, padding=1, dilation=2),\n",
    "            CNNBlock(32, 64, kernel_size=3, stride=2, padding=1, dilation=2),\n",
    "            CNNBlock(64, 128, kernel_size=3, stride=2, padding=1, groups=8),\n",
    "            CNNBlock(128, 256, kernel_size=3, stride=1, padding=1, groups=8),\n",
    "            CNNBlock(256, 256, kernel_size=3, stride=1, padding=1, groups=16),\n",
    "            nn.MaxPool2d(2, 2),\n",
    "            nn.Conv2d(256, num_anchors * (num_classes + 5), kernel_size=1)\n",
    "        )\n",
    "\n",
    "    def forward(self, x: Tensor) -> Tensor:\n",
    "        x = self.layers(x)\n",
    "        B, _, W, H = x.shape\n",
    "        x = x.view(B, self.num_anchors, self.num_classes + 5, W, H)  # B A F W H\n",
    "        x = x.permute(0, 1, 3, 4, 2)  # B A W H F\n",
    "        return x\n",
    "\n",
    "\n",
    "model = TinyYOLO(in_channels=1, num_anchors=1, num_classes=2).to(device)\n",
    "print(sum(p.numel() for p in model.parameters()))"
   ]
  },
  {
   "cell_type": "code",
   "execution_count": 66,
   "metadata": {},
   "outputs": [],
   "source": [
    "def cells_to_bboxes(cells: Tensor, rescaled_anchors: Tensor, is_predictions=False) -> Tensor:\n",
    "    \"\"\"\n",
    "    Переводит клеточное представление в bbox представление, где каждая рамка -\n",
    "    (id класса, вероятность нахождения объекта, cx, cy, w, h), а клеточное представление\n",
    "    имеет размер (batch_size, n_anchors, grid_size, grid_size, 6), в последней размерности\n",
    "    хранятся признаки ячейки: класс объекта, вероятность объекта, координаты и размеры рамки\n",
    "    относительно ячейки\n",
    "\n",
    "    Args:\n",
    "        cells (Tensor): тензор размера (batch_size, n_anchors, width, height, 6)\n",
    "        rescaled_anchors (Tensor): тензор размера (n_anchors, 2) с размерами якорей в долях от размеров ячейки\n",
    "        is_predictions (bool, optional): являются ли входные ячейки предсказаниями или верной аннотацией.\n",
    "    \"\"\"\n",
    "\n",
    "    if is_predictions:\n",
    "        scores, box_predictions, logits = process_yolo_preds(cells, rescaled_anchors)\n",
    "        scores = torch.sigmoid(scores)\n",
    "        best_class = torch.argmax(logits, dim=-1).unsqueeze(-1) + 1\n",
    "\n",
    "    else:\n",
    "        box_predictions = cells[..., 1:5].clone()\n",
    "        scores = cells[..., 0:1]\n",
    "        best_class = cells[..., 5:6]\n",
    "\n",
    "    # масштабируем размер рамок [0, grid_size] -> [0, 1]\n",
    "    _, _, H, W, _ = cells.shape\n",
    "    range_y, range_x = torch.meshgrid(\n",
    "        torch.arange(H, dtype=cells.dtype, device=cells.device),\n",
    "        torch.arange(W, dtype=cells.dtype, device=cells.device),\n",
    "        indexing=\"ij\",\n",
    "    )\n",
    "    x = torch.cat(\n",
    "        [\n",
    "            best_class,\n",
    "            scores,\n",
    "            (box_predictions[..., 0:1] + range_x[None, None, :, :, None]) / W,  # X center\n",
    "            (box_predictions[..., 1:2] + range_y[None, None, :, :, None]) / H,  # Y center\n",
    "            box_predictions[..., 2:3] / W,  # Width\n",
    "            box_predictions[..., 3:4] / H,  # Height\n",
    "        ],\n",
    "        -1,\n",
    "    )\n",
    "\n",
    "    return x.view(-1, 6)"
   ]
  },
  {
   "cell_type": "code",
   "execution_count": 67,
   "metadata": {},
   "outputs": [],
   "source": [
    "def iou_wh(wh1: Tensor, wh2: Tensor) -> Tensor:\n",
    "    # IoU based on width and height of bboxes\n",
    "\n",
    "    # intersection\n",
    "    intersection_area = torch.min(wh1[..., 0], wh2[..., 0]) * torch.min(wh1[..., 1], wh2[..., 1])\n",
    "\n",
    "    # union\n",
    "    box1_area = wh1[..., 0] * wh1[..., 1]\n",
    "    box2_area = wh2[..., 0] * wh2[..., 1]\n",
    "    union_area = box1_area + box2_area - intersection_area\n",
    "\n",
    "    iou_score = intersection_area / union_area\n",
    "    return iou_score\n",
    "\n",
    "\n",
    "def boxes_to_cells(\n",
    "    boxes: Tensor,\n",
    "    classes: Tensor,\n",
    "    rescaled_anchors: Tensor,\n",
    "    grid_size: int = GRID_SIZE,\n",
    "    ignore_iou_thresh: float = 0.5,\n",
    ") -> Tensor:\n",
    "    \"\"\"\n",
    "    Переводит bbox представление в клеточное представление, где каждая рамка -\n",
    "    (id класса, вероятность нахождения объекта, cx, cy, w, h), а клеточное представление\n",
    "    имеет размер (batch_size, n_anchors, grid_size, grid_size, 6), в последней размерности\n",
    "    хранятся признаки ячейки: класс объекта, вероятность объекта, координаты и размеры рамки\n",
    "    относительно ячейки\n",
    "\n",
    "    Args:\n",
    "        boxes (Tensor): тензор со всеми рамками\n",
    "        classes (Tensor): тензор с id классов объектов\n",
    "        rescaled_anchors (Tensor): тензор размера (n_anchors, 2) с размерами якорей в долях от размеров ячейки\n",
    "        grid_size (int): размер сетки,\n",
    "        ignore_iou_thresh (float, optional): значение IoU для рамок, при котором ячейка,\n",
    "            занятая более чем одним объектом, будет специально помечена для игнорирования\n",
    "    \"\"\"\n",
    "    targets = torch.zeros((len(rescaled_anchors), grid_size, grid_size, 6))\n",
    "\n",
    "    # Каждой рамке сопоставляем клетку и наиболее подходящий якорь\n",
    "    for box, class_label in zip(boxes, classes):\n",
    "        iou_anchors = iou_wh(box[2:4], rescaled_anchors / grid_size)\n",
    "        anchor_indices = iou_anchors.argsort(descending=True, dim=0)\n",
    "        x, y, width, height = box\n",
    "\n",
    "        # Относим рамку к наиболее подходящему якорю\n",
    "        has_anchor = False\n",
    "        for anchor_idx in anchor_indices:\n",
    "            s = grid_size\n",
    "\n",
    "            # Определяем клетку, к которой относится рамка\n",
    "            i, j = int(s * y), int(s * x)\n",
    "            anchor_taken = targets[anchor_idx, i, j, 0]\n",
    "\n",
    "            # Проверяем, доступен ли якорная рамка для текущей ячейки\n",
    "            if not anchor_taken and not has_anchor:\n",
    "                # Пересчитываем координаты по отношению к клетке\n",
    "                x_cell, y_cell = s * x - j, s * y - i\n",
    "                width_cell, height_cell = (width * s, height * s)\n",
    "                box_coordinates = torch.tensor([x_cell, y_cell, width_cell, height_cell])\n",
    "\n",
    "                # Заполняем содержимое для выбранной клетки\n",
    "                targets[anchor_idx, i, j, 0] = 1  # указатель, что в клетке есть объект\n",
    "                targets[anchor_idx, i, j, 1:5] = box_coordinates\n",
    "                targets[anchor_idx, i, j, 5] = int(class_label)\n",
    "\n",
    "                has_anchor = True\n",
    "\n",
    "            # Если якорь уже выбран, проверим IoU, если больше threshold - пометим клетку -1\n",
    "            elif not anchor_taken and iou_anchors[anchor_idx] > ignore_iou_thresh:\n",
    "                targets[anchor_idx, i, j, 0] = -1\n",
    "\n",
    "    return targets\n"
   ]
  },
  {
   "cell_type": "code",
   "execution_count": 68,
   "metadata": {},
   "outputs": [],
   "source": [
    "class YeastDetectionDataset(Dataset):\n",
    "    def __init__(\n",
    "        self, subset_dir: Path, anchors: list[tuple[int, int]], image_size: int, grid_size: int = GRID_SIZE\n",
    "    ) -> None:\n",
    "        super().__init__()\n",
    "        self.subset_dir = subset_dir\n",
    "        self.items = list((self.subset_dir / \"inputs\").glob(\"*.pt\"))\n",
    "        # Ignore IoU threshold\n",
    "        self.ignore_iou_thresh = 0.5\n",
    "        self.rescaled_anchors = torch.tensor(anchors) / image_size * grid_size\n",
    "        self.grid_size = grid_size\n",
    "        self.image_size = image_size\n",
    "\n",
    "    def __len__(self) -> int:\n",
    "        return len(self.items)\n",
    "\n",
    "    def __getitem__(self, index: int) -> tuple[Tensor, Tensor]:\n",
    "        image_path = self.items[index]\n",
    "        # load everything\n",
    "        image = torch.load(image_path, weights_only=True).unsqueeze(0)\n",
    "        classes = (\n",
    "            torch.load(self.subset_dir / \"classes\" / image_path.parts[-1], weights_only=True) + 1\n",
    "        )\n",
    "        boxes = torch.load(\n",
    "            self.subset_dir / \"bounding_boxes\" / image_path.parts[-1], weights_only=True\n",
    "        )\n",
    "        boxes = box_convert(boxes, \"xyxy\", \"cxcywh\") / self.image_size\n",
    "\n",
    "        # convert boxes to cells\n",
    "        targets = boxes_to_cells(\n",
    "            boxes, classes, self.rescaled_anchors, self.grid_size, self.ignore_iou_thresh\n",
    "        )\n",
    "        return image.to(device), targets.to(device)"
   ]
  },
  {
   "cell_type": "code",
   "execution_count": 69,
   "metadata": {},
   "outputs": [],
   "source": [
    "train_dataset = YeastDetectionDataset(\n",
    "    Path(\"yeast_cell_in_microstructures_dataset/train\"), anchors=ANCHORS, image_size=256\n",
    ")\n",
    "val_dataset = YeastDetectionDataset(Path(\"yeast_cell_in_microstructures_dataset/val\"), anchors=ANCHORS, image_size=256)\n",
    "\n",
    "batch_size = 32\n",
    "train_loader = DataLoader(dataset=train_dataset, batch_size=batch_size, shuffle=True)\n",
    "val_loader = DataLoader(dataset=val_dataset, batch_size=batch_size, shuffle=False)"
   ]
  },
  {
   "cell_type": "code",
   "execution_count": 70,
   "metadata": {},
   "outputs": [],
   "source": [
    "def plot_image(image: Tensor, boxes: Tensor, class_labels: list[str]) -> Figure:\n",
    "    # назначим цвета для классов\n",
    "    colour_map = plt.get_cmap(\"tab20b\")\n",
    "    colors = [colour_map(i) for i in np.linspace(0, 1, len(class_labels))]\n",
    "\n",
    "    fig, ax = plt.subplots(1)\n",
    "    ax.imshow(image, cmap=\"gray\")\n",
    "    h, w = image.shape\n",
    "    for box in boxes:\n",
    "        # добавляем прямоугольник\n",
    "        class_pred = box[0] - 1\n",
    "        box = box[2:]\n",
    "        upper_left_x = box[0] - box[2] / 2\n",
    "        upper_left_y = box[1] - box[3] / 2\n",
    "\n",
    "        rect = patches.Rectangle(\n",
    "            (upper_left_x * w, upper_left_y * h),\n",
    "            box[2] * w,\n",
    "            box[3] * h,\n",
    "            linewidth=2,\n",
    "            edgecolor=colors[int(class_pred)],\n",
    "            facecolor=\"none\",\n",
    "        )\n",
    "        ax.add_patch(rect)\n",
    "\n",
    "        # добавляем подпись\n",
    "        ax.text(\n",
    "            upper_left_x * w,\n",
    "            upper_left_y * h,\n",
    "            s=class_labels[int(class_pred)],\n",
    "            color=\"white\",\n",
    "            verticalalignment=\"top\",\n",
    "            bbox={\"color\": colors[int(class_pred)], \"pad\": 0},\n",
    "        )\n",
    "\n",
    "    return fig"
   ]
  },
  {
   "cell_type": "code",
   "execution_count": 71,
   "metadata": {},
   "outputs": [],
   "source": [
    "class YOLOLoss(nn.Module):\n",
    "    def __init__(self):\n",
    "        super().__init__()\n",
    "        self.mse = nn.MSELoss()\n",
    "        self.bce = nn.BCEWithLogitsLoss()\n",
    "        self.cross_entropy = nn.CrossEntropyLoss()\n",
    "\n",
    "    def forward(self, pred: Tensor, target: Tensor, anchors: Tensor) -> Tensor:\n",
    "        # ниже входные тензоры будут меняться на месте, так что склонируем их\n",
    "        pred = pred.clone()\n",
    "        target = target.clone()\n",
    "\n",
    "        # разделяем рамки на содержащие объекты и не содержащие\n",
    "        # NB: ещё могут быть -1, куда отнеслось более 1 объекта - их не учитываем\n",
    "        obj = target[..., 0] == 1\n",
    "        no_obj = target[..., 0] == 0\n",
    "\n",
    "        # преобразуем предсказания bbox\n",
    "        scores, pred_boxes, logits = process_yolo_preds(pred, anchors)\n",
    "\n",
    "        # no object loss: кросс-энтропия вместо MSE\n",
    "        no_object_loss = self.bce(\n",
    "            (scores[no_obj]),\n",
    "            (target[..., 0:1][no_obj]),\n",
    "        )\n",
    "\n",
    "        # object loss: учим предсказывать IoU\n",
    "        ious = intersection_over_union(pred_boxes[obj], target[..., 1:5][obj]).detach()\n",
    "        object_loss = self.mse(scores[obj].sigmoid(), ious * target[..., 0:1][obj])\n",
    "\n",
    "        # box coordinate loss: логарифмируем размеры рамок перед расчётом MSE\n",
    "        anchors = anchors.reshape(1, len(anchors), 1, 1, 2)\n",
    "        pred[..., 1:3] = pred[..., 1:3].sigmoid()\n",
    "        target[..., 3:5] = torch.log(1e-6 + target[..., 3:5] / anchors)\n",
    "        box_loss = self.mse(pred[..., 1:5][obj], target[..., 1:5][obj])\n",
    "\n",
    "        # class loss: здесь всё обычно\n",
    "        class_loss = self.cross_entropy(logits[obj], target[..., 5][obj].long() - 1)\n",
    "\n",
    "        # Total loss\n",
    "        return box_loss + object_loss + no_object_loss + class_loss"
   ]
  },
  {
   "cell_type": "markdown",
   "metadata": {},
   "source": [
    "### Задание 1 (3 балла). Цикл обучения с расчётом Mean Average Precision\n",
    "\n",
    "Запустите обучение модели из практики на всём обучающем датасете, выведите значение $mAP$ на валидационном датасете после окончания обучения.\n",
    "\n",
    "В этом задании добейтесь $mAP > 0.3$, если всё сделано правильно - для этого должно хватать 30-50 эпох."
   ]
  },
  {
   "cell_type": "code",
   "execution_count": 72,
   "metadata": {},
   "outputs": [],
   "source": [
    "from typing import Callable, Type, Any\n",
    "import lightning as L\n",
    "\n",
    "from lightning.pytorch.utilities.types import EVAL_DATALOADERS, TRAIN_DATALOADERS\n",
    "from PIL.Image import Image\n",
    "from torch.utils.data import DataLoader\n",
    "from torchvision import datasets, transforms\n",
    "\n",
    "_collate_fn_t = Callable[[list[tuple[Tensor, Any]]], Any]\n",
    "\n",
    "class Datamodule(L.LightningDataModule):\n",
    "    def __init__(\n",
    "        self,\n",
    "        datadir: Path,\n",
    "        dataset_class: Type[Dataset],\n",
    "        batch_size: int,\n",
    "        train_subdir: str = \"train\",\n",
    "        val_subdir: str = \"val\",\n",
    "        test_subdir: str = \"test\",\n",
    "    ) -> None:\n",
    "        super().__init__()\n",
    "        self.batch_size = batch_size\n",
    "        self.dataset_class = dataset_class\n",
    "        self.train_dir = datadir / train_subdir\n",
    "        self.val_dir = datadir / val_subdir\n",
    "        self.test_dir = datadir / test_subdir\n",
    "\n",
    "    @property\n",
    "    def collate_fn(self) -> _collate_fn_t | None:\n",
    "        if self.dataset_class == YeastDetectionDataset:\n",
    "            return None\n",
    "        else:\n",
    "            return lambda batch: tuple(zip(*batch))\n",
    "\n",
    "    def setup(self, stage: str) -> None:\n",
    "        if stage in (\"fit\", \"validate\"):\n",
    "            self.val_dataset = self.dataset_class(self.val_dir, anchors=ANCHORS, image_size=256)\n",
    "        if stage == \"fit\":\n",
    "            self.train_dataset = self.dataset_class(self.train_dir, anchors=ANCHORS, image_size=256)\n",
    "        elif stage == \"test\":\n",
    "            self.test_dataset = self.dataset_class(self.test_dir, anchors=ANCHORS, image_size=256)\n",
    "\n",
    "    def train_dataloader(self) -> TRAIN_DATALOADERS:\n",
    "        return DataLoader(\n",
    "            self.train_dataset,\n",
    "            batch_size=self.batch_size,\n",
    "            shuffle=True,\n",
    "            collate_fn=self.collate_fn,\n",
    "        )\n",
    "\n",
    "    def val_dataloader(self) -> EVAL_DATALOADERS:\n",
    "        return DataLoader(\n",
    "            self.val_dataset,\n",
    "            batch_size=self.batch_size,\n",
    "            shuffle=False,\n",
    "            collate_fn=self.collate_fn,\n",
    "        )\n",
    "\n",
    "    def test_dataloader(self) -> EVAL_DATALOADERS:\n",
    "        return DataLoader(\n",
    "            self.test_dataset,\n",
    "            batch_size=self.batch_size,\n",
    "            shuffle=False,\n",
    "            collate_fn=self.collate_fn,\n",
    "        )\n"
   ]
  },
  {
   "cell_type": "code",
   "execution_count": 73,
   "metadata": {},
   "outputs": [],
   "source": [
    "from typing import Any\n",
    "from torchvision.ops.boxes import nms\n",
    "from lightning.pytorch.utilities.types import STEP_OUTPUT\n",
    "import torchmetrics.classification\n",
    "from torchmetrics.detection import MeanAveragePrecision\n",
    "\n",
    "\n",
    "class Lit(L.LightningModule):\n",
    "    def __init__(self, model: nn.Module, learning_rate: float) -> None:\n",
    "        super().__init__()\n",
    "        self.save_hyperparameters()\n",
    "        self.model = model\n",
    "        self.learning_rate = learning_rate\n",
    "        self.loss_fn = YOLOLoss()\n",
    "\n",
    "    def training_step(\n",
    "        self, batch: tuple[Tensor, Tensor], batch_idx: int\n",
    "    ) -> STEP_OUTPUT:\n",
    "        x, y = batch\n",
    "        y_hat = self.model(x)\n",
    "        loss = self.loss_fn.forward(y_hat, y, rescaled_anchors)\n",
    "        self.log(\"train_loss\", loss, on_epoch=True, on_step=False)\n",
    "        # обновляем метрики и логируем раз в эпоху\n",
    "\n",
    "        return loss\n",
    "\n",
    "    def validation_step(\n",
    "        self, batch: tuple[Tensor, Tensor], batch_idx: int\n",
    "    ) -> STEP_OUTPUT | None:\n",
    "        x, y = batch\n",
    "        y_hat = self.model(x)\n",
    "        loss = self.loss_fn.forward(y_hat, y, rescaled_anchors)\n",
    "        self.log(\"val_loss\", loss, on_epoch=True, on_step=False)\n",
    "        # обновляем метрики и логируем раз в эпоху\n",
    "        return {\n",
    "            \"loss\": loss,\n",
    "            \"preds\": y_hat,\n",
    "        }\n",
    "    \n",
    "    def on_validation_epoch_end(self) -> None:\n",
    "        val_loss = self.trainer.callback_metrics[\"val_loss\"]\n",
    "        print(f\" Val. Loss: {val_loss:.4f}\")\n",
    "    \n",
    "\n",
    "    def configure_optimizers(self) -> dict[str, Any]:\n",
    "        optimizer = torch.optim.AdamW(self.model.parameters(), lr=self.learning_rate)\n",
    "        # давайте кроме оптимизатора создадим ещё расписание для шага оптимизации\n",
    "        return {\n",
    "            \"optimizer\": optimizer,\n",
    "            \"lr_scheduler\": torch.optim.lr_scheduler.MultiStepLR(\n",
    "                optimizer, milestones=[5, 10, 15]\n",
    "            ),\n",
    "        }\n"
   ]
  },
  {
   "cell_type": "code",
   "execution_count": 74,
   "metadata": {},
   "outputs": [
    {
     "name": "stderr",
     "output_type": "stream",
     "text": [
      "GPU available: True (mps), used: True\n",
      "TPU available: False, using: 0 TPU cores\n",
      "HPU available: False, using: 0 HPUs\n",
      "\n",
      "  | Name    | Type     | Params | Mode \n",
      "---------------------------------------------\n",
      "0 | model   | TinyYOLO | 109 K  | train\n",
      "1 | loss_fn | YOLOLoss | 0      | train\n",
      "---------------------------------------------\n",
      "109 K     Trainable params\n",
      "0         Non-trainable params\n",
      "109 K     Total params\n",
      "0.438     Total estimated model params size (MB)\n",
      "32        Modules in train mode\n",
      "0         Modules in eval mode\n"
     ]
    },
    {
     "data": {
      "application/vnd.jupyter.widget-view+json": {
       "model_id": "d2ad592e1a1a41aaa923ce450e17dbe1",
       "version_major": 2,
       "version_minor": 0
      },
      "text/plain": [
       "Sanity Checking: |          | 0/? [00:00<?, ?it/s]"
      ]
     },
     "metadata": {},
     "output_type": "display_data"
    },
    {
     "name": "stdout",
     "output_type": "stream",
     "text": [
      " Val. Loss: 1.4667\n"
     ]
    },
    {
     "data": {
      "application/vnd.jupyter.widget-view+json": {
       "model_id": "e375d9e64c944029888be77a38698d59",
       "version_major": 2,
       "version_minor": 0
      },
      "text/plain": [
       "Training: |          | 0/? [00:00<?, ?it/s]"
      ]
     },
     "metadata": {},
     "output_type": "display_data"
    },
    {
     "data": {
      "application/vnd.jupyter.widget-view+json": {
       "model_id": "12e61bd6d67045bf8d3c1d093b047f02",
       "version_major": 2,
       "version_minor": 0
      },
      "text/plain": [
       "Validation: |          | 0/? [00:00<?, ?it/s]"
      ]
     },
     "metadata": {},
     "output_type": "display_data"
    },
    {
     "name": "stdout",
     "output_type": "stream",
     "text": [
      " Val. Loss: 0.2590\n"
     ]
    },
    {
     "data": {
      "application/vnd.jupyter.widget-view+json": {
       "model_id": "25024c1079f442ed851ed35699b82af2",
       "version_major": 2,
       "version_minor": 0
      },
      "text/plain": [
       "Validation: |          | 0/? [00:00<?, ?it/s]"
      ]
     },
     "metadata": {},
     "output_type": "display_data"
    },
    {
     "name": "stdout",
     "output_type": "stream",
     "text": [
      " Val. Loss: 0.1629\n"
     ]
    },
    {
     "data": {
      "application/vnd.jupyter.widget-view+json": {
       "model_id": "9f457b040cd44cc0951386edd8a611cb",
       "version_major": 2,
       "version_minor": 0
      },
      "text/plain": [
       "Validation: |          | 0/? [00:00<?, ?it/s]"
      ]
     },
     "metadata": {},
     "output_type": "display_data"
    },
    {
     "name": "stdout",
     "output_type": "stream",
     "text": [
      " Val. Loss: 0.1377\n"
     ]
    },
    {
     "data": {
      "application/vnd.jupyter.widget-view+json": {
       "model_id": "2421227edabb402a8dc13822f15e8236",
       "version_major": 2,
       "version_minor": 0
      },
      "text/plain": [
       "Validation: |          | 0/? [00:00<?, ?it/s]"
      ]
     },
     "metadata": {},
     "output_type": "display_data"
    },
    {
     "name": "stdout",
     "output_type": "stream",
     "text": [
      " Val. Loss: 0.1197\n"
     ]
    },
    {
     "data": {
      "application/vnd.jupyter.widget-view+json": {
       "model_id": "1d68992cd0754a00a873626cac28498a",
       "version_major": 2,
       "version_minor": 0
      },
      "text/plain": [
       "Validation: |          | 0/? [00:00<?, ?it/s]"
      ]
     },
     "metadata": {},
     "output_type": "display_data"
    },
    {
     "name": "stdout",
     "output_type": "stream",
     "text": [
      " Val. Loss: 0.1199\n"
     ]
    },
    {
     "data": {
      "application/vnd.jupyter.widget-view+json": {
       "model_id": "af89fe599908493c999654ef14f5ff24",
       "version_major": 2,
       "version_minor": 0
      },
      "text/plain": [
       "Validation: |          | 0/? [00:00<?, ?it/s]"
      ]
     },
     "metadata": {},
     "output_type": "display_data"
    },
    {
     "name": "stdout",
     "output_type": "stream",
     "text": [
      " Val. Loss: 0.1145\n"
     ]
    },
    {
     "data": {
      "application/vnd.jupyter.widget-view+json": {
       "model_id": "fb32fd8069d648bdac1f97ed06abefc2",
       "version_major": 2,
       "version_minor": 0
      },
      "text/plain": [
       "Validation: |          | 0/? [00:00<?, ?it/s]"
      ]
     },
     "metadata": {},
     "output_type": "display_data"
    },
    {
     "name": "stdout",
     "output_type": "stream",
     "text": [
      " Val. Loss: 0.1189\n"
     ]
    },
    {
     "data": {
      "application/vnd.jupyter.widget-view+json": {
       "model_id": "591bf61da4a5447c93720f58ce93ab2a",
       "version_major": 2,
       "version_minor": 0
      },
      "text/plain": [
       "Validation: |          | 0/? [00:00<?, ?it/s]"
      ]
     },
     "metadata": {},
     "output_type": "display_data"
    },
    {
     "name": "stdout",
     "output_type": "stream",
     "text": [
      " Val. Loss: 0.1209\n"
     ]
    },
    {
     "data": {
      "application/vnd.jupyter.widget-view+json": {
       "model_id": "fa25c4b8236b44088e8d3ea8205b318d",
       "version_major": 2,
       "version_minor": 0
      },
      "text/plain": [
       "Validation: |          | 0/? [00:00<?, ?it/s]"
      ]
     },
     "metadata": {},
     "output_type": "display_data"
    },
    {
     "name": "stdout",
     "output_type": "stream",
     "text": [
      " Val. Loss: 0.1186\n"
     ]
    },
    {
     "data": {
      "application/vnd.jupyter.widget-view+json": {
       "model_id": "c585db0fbea240b886378b8331e6f8f2",
       "version_major": 2,
       "version_minor": 0
      },
      "text/plain": [
       "Validation: |          | 0/? [00:00<?, ?it/s]"
      ]
     },
     "metadata": {},
     "output_type": "display_data"
    },
    {
     "name": "stdout",
     "output_type": "stream",
     "text": [
      " Val. Loss: 0.1224\n"
     ]
    },
    {
     "data": {
      "application/vnd.jupyter.widget-view+json": {
       "model_id": "d16677b355304c54b3714a41265667b4",
       "version_major": 2,
       "version_minor": 0
      },
      "text/plain": [
       "Validation: |          | 0/? [00:00<?, ?it/s]"
      ]
     },
     "metadata": {},
     "output_type": "display_data"
    },
    {
     "name": "stdout",
     "output_type": "stream",
     "text": [
      " Val. Loss: 0.1218\n"
     ]
    },
    {
     "data": {
      "application/vnd.jupyter.widget-view+json": {
       "model_id": "0f9f1c17ae8d4b48bb49c8187e5dd7ae",
       "version_major": 2,
       "version_minor": 0
      },
      "text/plain": [
       "Validation: |          | 0/? [00:00<?, ?it/s]"
      ]
     },
     "metadata": {},
     "output_type": "display_data"
    },
    {
     "name": "stdout",
     "output_type": "stream",
     "text": [
      " Val. Loss: 0.1257\n"
     ]
    },
    {
     "data": {
      "application/vnd.jupyter.widget-view+json": {
       "model_id": "5b9235f0683d401b9b8815b93632e615",
       "version_major": 2,
       "version_minor": 0
      },
      "text/plain": [
       "Validation: |          | 0/? [00:00<?, ?it/s]"
      ]
     },
     "metadata": {},
     "output_type": "display_data"
    },
    {
     "name": "stdout",
     "output_type": "stream",
     "text": [
      " Val. Loss: 0.1237\n"
     ]
    },
    {
     "data": {
      "application/vnd.jupyter.widget-view+json": {
       "model_id": "5b1a27ec71c1475a9e085756935d2a3f",
       "version_major": 2,
       "version_minor": 0
      },
      "text/plain": [
       "Validation: |          | 0/? [00:00<?, ?it/s]"
      ]
     },
     "metadata": {},
     "output_type": "display_data"
    },
    {
     "name": "stdout",
     "output_type": "stream",
     "text": [
      " Val. Loss: 0.1224\n"
     ]
    },
    {
     "data": {
      "application/vnd.jupyter.widget-view+json": {
       "model_id": "b5f1e5a7ab6a45b583942ad6b85a1209",
       "version_major": 2,
       "version_minor": 0
      },
      "text/plain": [
       "Validation: |          | 0/? [00:00<?, ?it/s]"
      ]
     },
     "metadata": {},
     "output_type": "display_data"
    },
    {
     "name": "stdout",
     "output_type": "stream",
     "text": [
      " Val. Loss: 0.1234\n"
     ]
    },
    {
     "data": {
      "application/vnd.jupyter.widget-view+json": {
       "model_id": "78b496f2a6954475b370d7fca22c1c04",
       "version_major": 2,
       "version_minor": 0
      },
      "text/plain": [
       "Validation: |          | 0/? [00:00<?, ?it/s]"
      ]
     },
     "metadata": {},
     "output_type": "display_data"
    },
    {
     "name": "stdout",
     "output_type": "stream",
     "text": [
      " Val. Loss: 0.1207\n"
     ]
    },
    {
     "data": {
      "application/vnd.jupyter.widget-view+json": {
       "model_id": "d0dfb7f61b524245a624620a659a69f0",
       "version_major": 2,
       "version_minor": 0
      },
      "text/plain": [
       "Validation: |          | 0/? [00:00<?, ?it/s]"
      ]
     },
     "metadata": {},
     "output_type": "display_data"
    },
    {
     "name": "stdout",
     "output_type": "stream",
     "text": [
      " Val. Loss: 0.1222\n"
     ]
    },
    {
     "data": {
      "application/vnd.jupyter.widget-view+json": {
       "model_id": "41eba1110adc4e16ad18bbda8a1c425e",
       "version_major": 2,
       "version_minor": 0
      },
      "text/plain": [
       "Validation: |          | 0/? [00:00<?, ?it/s]"
      ]
     },
     "metadata": {},
     "output_type": "display_data"
    },
    {
     "name": "stdout",
     "output_type": "stream",
     "text": [
      " Val. Loss: 0.1224\n"
     ]
    },
    {
     "data": {
      "application/vnd.jupyter.widget-view+json": {
       "model_id": "3dff7a9855934cb7845703e00cda372b",
       "version_major": 2,
       "version_minor": 0
      },
      "text/plain": [
       "Validation: |          | 0/? [00:00<?, ?it/s]"
      ]
     },
     "metadata": {},
     "output_type": "display_data"
    },
    {
     "name": "stdout",
     "output_type": "stream",
     "text": [
      " Val. Loss: 0.1246\n"
     ]
    },
    {
     "data": {
      "application/vnd.jupyter.widget-view+json": {
       "model_id": "7ecebd3d208a43538f284721d2981203",
       "version_major": 2,
       "version_minor": 0
      },
      "text/plain": [
       "Validation: |          | 0/? [00:00<?, ?it/s]"
      ]
     },
     "metadata": {},
     "output_type": "display_data"
    },
    {
     "name": "stdout",
     "output_type": "stream",
     "text": [
      " Val. Loss: 0.1256\n"
     ]
    },
    {
     "data": {
      "application/vnd.jupyter.widget-view+json": {
       "model_id": "87af1db33f9b4049b68ffea37e264ee5",
       "version_major": 2,
       "version_minor": 0
      },
      "text/plain": [
       "Validation: |          | 0/? [00:00<?, ?it/s]"
      ]
     },
     "metadata": {},
     "output_type": "display_data"
    },
    {
     "name": "stdout",
     "output_type": "stream",
     "text": [
      " Val. Loss: 0.1241\n"
     ]
    },
    {
     "data": {
      "application/vnd.jupyter.widget-view+json": {
       "model_id": "9768dad60b474354b0a8566333b7e6ab",
       "version_major": 2,
       "version_minor": 0
      },
      "text/plain": [
       "Validation: |          | 0/? [00:00<?, ?it/s]"
      ]
     },
     "metadata": {},
     "output_type": "display_data"
    },
    {
     "name": "stdout",
     "output_type": "stream",
     "text": [
      " Val. Loss: 0.1220\n"
     ]
    },
    {
     "data": {
      "application/vnd.jupyter.widget-view+json": {
       "model_id": "f78a86cd9b1542bfba4a26629ef16be2",
       "version_major": 2,
       "version_minor": 0
      },
      "text/plain": [
       "Validation: |          | 0/? [00:00<?, ?it/s]"
      ]
     },
     "metadata": {},
     "output_type": "display_data"
    },
    {
     "name": "stdout",
     "output_type": "stream",
     "text": [
      " Val. Loss: 0.1248\n"
     ]
    },
    {
     "data": {
      "application/vnd.jupyter.widget-view+json": {
       "model_id": "ecbb0c27f7ea4be19b9b8d5db111f20f",
       "version_major": 2,
       "version_minor": 0
      },
      "text/plain": [
       "Validation: |          | 0/? [00:00<?, ?it/s]"
      ]
     },
     "metadata": {},
     "output_type": "display_data"
    },
    {
     "name": "stdout",
     "output_type": "stream",
     "text": [
      " Val. Loss: 0.1231\n"
     ]
    },
    {
     "data": {
      "application/vnd.jupyter.widget-view+json": {
       "model_id": "bb869addf2c44baba576edd243dc288a",
       "version_major": 2,
       "version_minor": 0
      },
      "text/plain": [
       "Validation: |          | 0/? [00:00<?, ?it/s]"
      ]
     },
     "metadata": {},
     "output_type": "display_data"
    },
    {
     "name": "stdout",
     "output_type": "stream",
     "text": [
      " Val. Loss: 0.1271\n"
     ]
    },
    {
     "data": {
      "application/vnd.jupyter.widget-view+json": {
       "model_id": "93984727d11c4871b31a763728d45e0e",
       "version_major": 2,
       "version_minor": 0
      },
      "text/plain": [
       "Validation: |          | 0/? [00:00<?, ?it/s]"
      ]
     },
     "metadata": {},
     "output_type": "display_data"
    },
    {
     "name": "stdout",
     "output_type": "stream",
     "text": [
      " Val. Loss: 0.1242\n"
     ]
    },
    {
     "data": {
      "application/vnd.jupyter.widget-view+json": {
       "model_id": "a832c1e4fcd54484a8f94d8c0b74c28b",
       "version_major": 2,
       "version_minor": 0
      },
      "text/plain": [
       "Validation: |          | 0/? [00:00<?, ?it/s]"
      ]
     },
     "metadata": {},
     "output_type": "display_data"
    },
    {
     "name": "stdout",
     "output_type": "stream",
     "text": [
      " Val. Loss: 0.1254\n"
     ]
    },
    {
     "data": {
      "application/vnd.jupyter.widget-view+json": {
       "model_id": "7c3381e5e88a42cf945db59c181aecc0",
       "version_major": 2,
       "version_minor": 0
      },
      "text/plain": [
       "Validation: |          | 0/? [00:00<?, ?it/s]"
      ]
     },
     "metadata": {},
     "output_type": "display_data"
    },
    {
     "name": "stdout",
     "output_type": "stream",
     "text": [
      " Val. Loss: 0.1229\n"
     ]
    },
    {
     "data": {
      "application/vnd.jupyter.widget-view+json": {
       "model_id": "48adde63c64e4b83a2d63797a31c887a",
       "version_major": 2,
       "version_minor": 0
      },
      "text/plain": [
       "Validation: |          | 0/? [00:00<?, ?it/s]"
      ]
     },
     "metadata": {},
     "output_type": "display_data"
    },
    {
     "name": "stdout",
     "output_type": "stream",
     "text": [
      " Val. Loss: 0.1233\n"
     ]
    },
    {
     "data": {
      "application/vnd.jupyter.widget-view+json": {
       "model_id": "bad61a4ac6de44dcb2facaa176f73b74",
       "version_major": 2,
       "version_minor": 0
      },
      "text/plain": [
       "Validation: |          | 0/? [00:00<?, ?it/s]"
      ]
     },
     "metadata": {},
     "output_type": "display_data"
    },
    {
     "name": "stderr",
     "output_type": "stream",
     "text": [
      "`Trainer.fit` stopped: `max_epochs=30` reached.\n"
     ]
    },
    {
     "name": "stdout",
     "output_type": "stream",
     "text": [
      " Val. Loss: 0.1231\n"
     ]
    }
   ],
   "source": [
    "from lightning.pytorch.loggers import TensorBoardLogger\n",
    "\n",
    "datamodule = Datamodule(\n",
    "    datadir=Path(\"yeast_cell_in_microstructures_dataset\"),\n",
    "    dataset_class=YeastDetectionDataset,\n",
    "    batch_size=8,\n",
    ")\n",
    "\n",
    "datamodule.setup(\"fit\")\n",
    "\n",
    "trainer = L.Trainer(\n",
    "    accelerator=\"auto\",\n",
    "    max_epochs=30,\n",
    "    limit_train_batches=None,\n",
    "    limit_val_batches=None,\n",
    "    log_every_n_steps=10\n",
    ")\n",
    "lit_module = Lit(\n",
    "    model=TinyYOLO(in_channels=1, num_anchors=len(rescaled_anchors), num_classes=2),\n",
    "    learning_rate=1e-3,\n",
    ")\n",
    "trainer.fit(\n",
    "    model=lit_module,\n",
    "    datamodule=datamodule,\n",
    ")\n"
   ]
  },
  {
   "cell_type": "code",
   "execution_count": 75,
   "metadata": {},
   "outputs": [
    {
     "data": {
      "application/vnd.jupyter.widget-view+json": {
       "model_id": "69bccd17588b4a4fbda863e571b5fe0e",
       "version_major": 2,
       "version_minor": 0
      },
      "text/plain": [
       "Validation: |          | 0/? [00:00<?, ?it/s]"
      ]
     },
     "metadata": {},
     "output_type": "display_data"
    },
    {
     "name": "stdout",
     "output_type": "stream",
     "text": [
      " Val. Loss: 0.1231\n"
     ]
    },
    {
     "data": {
      "text/html": [
       "<pre style=\"white-space:pre;overflow-x:auto;line-height:normal;font-family:Menlo,'DejaVu Sans Mono',consolas,'Courier New',monospace\">┏━━━━━━━━━━━━━━━━━━━━━━━━━━━┳━━━━━━━━━━━━━━━━━━━━━━━━━━━┓\n",
       "┃<span style=\"font-weight: bold\">      Validate metric      </span>┃<span style=\"font-weight: bold\">       DataLoader 0        </span>┃\n",
       "┡━━━━━━━━━━━━━━━━━━━━━━━━━━━╇━━━━━━━━━━━━━━━━━━━━━━━━━━━┩\n",
       "│<span style=\"color: #008080; text-decoration-color: #008080\">         val_loss          </span>│<span style=\"color: #800080; text-decoration-color: #800080\">    0.12311811000108719    </span>│\n",
       "└───────────────────────────┴───────────────────────────┘\n",
       "</pre>\n"
      ],
      "text/plain": [
       "┏━━━━━━━━━━━━━━━━━━━━━━━━━━━┳━━━━━━━━━━━━━━━━━━━━━━━━━━━┓\n",
       "┃\u001b[1m \u001b[0m\u001b[1m     Validate metric     \u001b[0m\u001b[1m \u001b[0m┃\u001b[1m \u001b[0m\u001b[1m      DataLoader 0       \u001b[0m\u001b[1m \u001b[0m┃\n",
       "┡━━━━━━━━━━━━━━━━━━━━━━━━━━━╇━━━━━━━━━━━━━━━━━━━━━━━━━━━┩\n",
       "│\u001b[36m \u001b[0m\u001b[36m        val_loss         \u001b[0m\u001b[36m \u001b[0m│\u001b[35m \u001b[0m\u001b[35m   0.12311811000108719   \u001b[0m\u001b[35m \u001b[0m│\n",
       "└───────────────────────────┴───────────────────────────┘\n"
      ]
     },
     "metadata": {},
     "output_type": "display_data"
    },
    {
     "data": {
      "text/plain": [
       "[{'val_loss': 0.12311811000108719}]"
      ]
     },
     "execution_count": 75,
     "metadata": {},
     "output_type": "execute_result"
    }
   ],
   "source": [
    "trainer.validate(model=lit_module, dataloaders=datamodule.val_dataloader())\n"
   ]
  },
  {
   "cell_type": "code",
   "execution_count": 76,
   "metadata": {},
   "outputs": [
    {
     "name": "stdout",
     "output_type": "stream",
     "text": [
      "{'map': tensor(0.3684), 'map_50': tensor(0.8571), 'map_75': tensor(0.2938), 'map_small': tensor(0.3684), 'map_medium': tensor(-1.), 'map_large': tensor(-1.), 'mar_1': tensor(0.2331), 'mar_10': tensor(0.4558), 'mar_100': tensor(0.4572), 'mar_small': tensor(0.4572), 'mar_medium': tensor(-1.), 'mar_large': tensor(-1.), 'map_per_class': tensor([0.4941, 0.2428]), 'mar_100_per_class': tensor([0.5847, 0.3296]), 'classes': tensor([1, 2], dtype=torch.int32)}\n"
     ]
    }
   ],
   "source": [
    "val_loader = DataLoader(dataset=val_dataset, batch_size=batch_size, shuffle=False)\n",
    "\n",
    "metric = MeanAveragePrecision(iou_type=\"bbox\", box_format=\"cxcywh\", class_metrics=True).to(device)\n",
    "\n",
    "for x, y in val_loader:\n",
    "    predicted_boxes = []\n",
    "    target_boxes = []\n",
    "\n",
    "    preds = lit_module.model.to(device)(x.to(device))\n",
    "\n",
    "    # итерируемся по элементам батча, собирая пердсказанные и верные рамки\n",
    "    for i in range(len(y)):\n",
    "        # получаем предсказанные рамки\n",
    "        pred_boxes = cells_to_bboxes(preds[i:i+1], rescaled_anchors.to(device), is_predictions=True)\n",
    "        # ВАЖНО: делаем non-max suppression ДО расчёта метрик\n",
    "        pred_boxes = pred_boxes[nms(box_convert(pred_boxes[:, 2:], \"cxcywh\", \"xyxy\"), pred_boxes[:, 1], iou_threshold=0.3)]\n",
    "        predicted_boxes.append(\n",
    "            dict(\n",
    "                boxes=pred_boxes[:, 2:],\n",
    "                scores=pred_boxes[:, 1],\n",
    "                labels=pred_boxes[:, 0].long(),\n",
    "            )\n",
    "        )\n",
    "        # достаём правильные рамки\n",
    "        true_boxes = cells_to_bboxes(y[i:i+1], rescaled_anchors)\n",
    "        true_boxes = true_boxes[true_boxes[:, 1] == 1]\n",
    "\n",
    "        target_boxes.append(\n",
    "            dict(\n",
    "                boxes=true_boxes[:, 2:],\n",
    "                labels=true_boxes[:, 0].long(),\n",
    "            )\n",
    "        )\n",
    "    metric.update(predicted_boxes, target_boxes)\n",
    "\n",
    "print(metric.compute())\n"
   ]
  },
  {
   "cell_type": "markdown",
   "metadata": {},
   "source": [
    "### Задание 2 (2 балла). YoloV3 loss\n",
    "\n",
    "Мы упоминали, что на практике использовалась не совсем та же самая ошибка, что и в YOLO. В этом задании исправьте в классе YoloLoss ошибку регрессии, приведя её в соответствие с тем, как она описана в статье [YOLOv3: An Incremental Improvement](https://arxiv.org/abs/1804.02767) (см. раздел 2.1. Bounding Box Prediction).\n",
    "\n",
    "Запустите обучение с изменённой ошибкой, добейтесь $mAP > 0.3$"
   ]
  },
  {
   "cell_type": "code",
   "execution_count": 186,
   "metadata": {},
   "outputs": [],
   "source": [
    "class YOLOLoss(nn.Module):\n",
    "    def __init__(self):\n",
    "        super().__init__()\n",
    "        self.mse = nn.MSELoss()\n",
    "        self.bce = nn.BCEWithLogitsLoss()\n",
    "        self.ce = nn.CrossEntropyLoss()\n",
    "\n",
    "    def forward(self, pred: Tensor, target: Tensor, anchors: Tensor) -> Tensor:\n",
    "        # ниже входные тензоры будут меняться на месте, так что склонируем их\n",
    "        pred = pred.clone()\n",
    "        target = target.clone()\n",
    "\n",
    "        # разделяем рамки на содержащие объекты и не содержащие\n",
    "        # NB: ещё могут быть -1, куда отнеслось более 1 объекта - их не учитываем\n",
    "        obj = target[..., 0] == 1\n",
    "        no_obj = target[..., 0] == 0\n",
    "\n",
    "        # преобразуем предсказания bbox\n",
    "        scores, pred_boxes, logits = process_yolo_preds(pred, anchors)\n",
    "\n",
    "        # no object loss: кросс-энтропия вместо MSE\n",
    "        no_object_loss = self.bce(\n",
    "            (scores[no_obj]),\n",
    "            (target[..., 0:1][no_obj]),\n",
    "        )\n",
    "\n",
    "        # object loss: учим предсказывать IoU\n",
    "        ious = intersection_over_union(pred_boxes[obj], target[..., 1:5][obj]).detach()\n",
    "        object_loss = self.mse(scores[obj].sigmoid(), ious * target[..., 0:1][obj])\n",
    "\n",
    "        # box coordinate loss: логарифмируем размеры рамок перед расчётом MSE\n",
    "        anchors = anchors.reshape(1, len(anchors), 1, 1, 2)\n",
    "        pred[..., 1:3] = pred[..., 1:3].sigmoid()\n",
    "        pred[..., 3:5] = torch.sqrt(anchors * torch.exp(pred[..., 3:5]))\n",
    "        target[..., 3:5] = torch.sqrt(target[..., 3:5])\n",
    "        box_loss = self.mse(pred[..., 1:5][obj], target[..., 1:5][obj])\n",
    "\n",
    "        # class loss: здесь всё обычно\n",
    "        class_loss = self.ce(logits[obj], target[..., 5][obj].long() - 1)\n",
    "\n",
    "        # Total loss\n",
    "        return box_loss + object_loss + no_object_loss + class_loss"
   ]
  },
  {
   "cell_type": "code",
   "execution_count": 189,
   "metadata": {},
   "outputs": [
    {
     "name": "stderr",
     "output_type": "stream",
     "text": [
      "GPU available: True (mps), used: True\n",
      "TPU available: False, using: 0 TPU cores\n",
      "HPU available: False, using: 0 HPUs\n",
      "\n",
      "  | Name    | Type     | Params | Mode \n",
      "---------------------------------------------\n",
      "0 | model   | TinyYOLO | 116 K  | train\n",
      "1 | loss_fn | YOLOLoss | 0      | train\n",
      "---------------------------------------------\n",
      "116 K     Trainable params\n",
      "0         Non-trainable params\n",
      "116 K     Total params\n",
      "0.467     Total estimated model params size (MB)\n",
      "32        Modules in train mode\n",
      "0         Modules in eval mode\n"
     ]
    },
    {
     "data": {
      "application/vnd.jupyter.widget-view+json": {
       "model_id": "205757d37a86446eb66cf074fcef8906",
       "version_major": 2,
       "version_minor": 0
      },
      "text/plain": [
       "Sanity Checking: |          | 0/? [00:00<?, ?it/s]"
      ]
     },
     "metadata": {},
     "output_type": "display_data"
    },
    {
     "name": "stdout",
     "output_type": "stream",
     "text": [
      " Val. Loss: 1.5989\n"
     ]
    },
    {
     "data": {
      "application/vnd.jupyter.widget-view+json": {
       "model_id": "59e08ef8255f4400953c3f0aa98eabf5",
       "version_major": 2,
       "version_minor": 0
      },
      "text/plain": [
       "Training: |          | 0/? [00:00<?, ?it/s]"
      ]
     },
     "metadata": {},
     "output_type": "display_data"
    },
    {
     "data": {
      "application/vnd.jupyter.widget-view+json": {
       "model_id": "42936cd7fa5740978dde4f301497bb10",
       "version_major": 2,
       "version_minor": 0
      },
      "text/plain": [
       "Validation: |          | 0/? [00:00<?, ?it/s]"
      ]
     },
     "metadata": {},
     "output_type": "display_data"
    },
    {
     "name": "stdout",
     "output_type": "stream",
     "text": [
      " Val. Loss: 0.1756\n"
     ]
    },
    {
     "data": {
      "application/vnd.jupyter.widget-view+json": {
       "model_id": "1956e5e7b5804a299791bf428146e8c0",
       "version_major": 2,
       "version_minor": 0
      },
      "text/plain": [
       "Validation: |          | 0/? [00:00<?, ?it/s]"
      ]
     },
     "metadata": {},
     "output_type": "display_data"
    },
    {
     "name": "stdout",
     "output_type": "stream",
     "text": [
      " Val. Loss: 0.1989\n"
     ]
    },
    {
     "data": {
      "application/vnd.jupyter.widget-view+json": {
       "model_id": "da619d3d98844c9aa276358c2bd4bb84",
       "version_major": 2,
       "version_minor": 0
      },
      "text/plain": [
       "Validation: |          | 0/? [00:00<?, ?it/s]"
      ]
     },
     "metadata": {},
     "output_type": "display_data"
    },
    {
     "name": "stdout",
     "output_type": "stream",
     "text": [
      " Val. Loss: 0.0938\n"
     ]
    },
    {
     "data": {
      "application/vnd.jupyter.widget-view+json": {
       "model_id": "c3a5fe6bccf84735b02092955557b735",
       "version_major": 2,
       "version_minor": 0
      },
      "text/plain": [
       "Validation: |          | 0/? [00:00<?, ?it/s]"
      ]
     },
     "metadata": {},
     "output_type": "display_data"
    },
    {
     "name": "stdout",
     "output_type": "stream",
     "text": [
      " Val. Loss: 0.1307\n"
     ]
    },
    {
     "data": {
      "application/vnd.jupyter.widget-view+json": {
       "model_id": "82fa4670458442d9a6ac1c15da09526d",
       "version_major": 2,
       "version_minor": 0
      },
      "text/plain": [
       "Validation: |          | 0/? [00:00<?, ?it/s]"
      ]
     },
     "metadata": {},
     "output_type": "display_data"
    },
    {
     "name": "stdout",
     "output_type": "stream",
     "text": [
      " Val. Loss: 0.0823\n"
     ]
    },
    {
     "data": {
      "application/vnd.jupyter.widget-view+json": {
       "model_id": "c3cb88e46c6f4cd7b5af54968d804bc5",
       "version_major": 2,
       "version_minor": 0
      },
      "text/plain": [
       "Validation: |          | 0/? [00:00<?, ?it/s]"
      ]
     },
     "metadata": {},
     "output_type": "display_data"
    },
    {
     "name": "stdout",
     "output_type": "stream",
     "text": [
      " Val. Loss: 0.0707\n"
     ]
    },
    {
     "data": {
      "application/vnd.jupyter.widget-view+json": {
       "model_id": "36f8459e6d1c410fbb948b836ec98a49",
       "version_major": 2,
       "version_minor": 0
      },
      "text/plain": [
       "Validation: |          | 0/? [00:00<?, ?it/s]"
      ]
     },
     "metadata": {},
     "output_type": "display_data"
    },
    {
     "name": "stdout",
     "output_type": "stream",
     "text": [
      " Val. Loss: 0.0688\n"
     ]
    },
    {
     "data": {
      "application/vnd.jupyter.widget-view+json": {
       "model_id": "cbad14c728134133831a721acbcc3a44",
       "version_major": 2,
       "version_minor": 0
      },
      "text/plain": [
       "Validation: |          | 0/? [00:00<?, ?it/s]"
      ]
     },
     "metadata": {},
     "output_type": "display_data"
    },
    {
     "name": "stdout",
     "output_type": "stream",
     "text": [
      " Val. Loss: 0.0678\n"
     ]
    },
    {
     "data": {
      "application/vnd.jupyter.widget-view+json": {
       "model_id": "266540aebd8045e3afac135e7aefb6c6",
       "version_major": 2,
       "version_minor": 0
      },
      "text/plain": [
       "Validation: |          | 0/? [00:00<?, ?it/s]"
      ]
     },
     "metadata": {},
     "output_type": "display_data"
    },
    {
     "name": "stdout",
     "output_type": "stream",
     "text": [
      " Val. Loss: 0.0709\n"
     ]
    },
    {
     "data": {
      "application/vnd.jupyter.widget-view+json": {
       "model_id": "52c0f8c226a04b2a926bcd4e487f67e9",
       "version_major": 2,
       "version_minor": 0
      },
      "text/plain": [
       "Validation: |          | 0/? [00:00<?, ?it/s]"
      ]
     },
     "metadata": {},
     "output_type": "display_data"
    },
    {
     "name": "stdout",
     "output_type": "stream",
     "text": [
      " Val. Loss: 0.0693\n"
     ]
    },
    {
     "data": {
      "application/vnd.jupyter.widget-view+json": {
       "model_id": "8e2a1437d94246c38b055026c56d36a7",
       "version_major": 2,
       "version_minor": 0
      },
      "text/plain": [
       "Validation: |          | 0/? [00:00<?, ?it/s]"
      ]
     },
     "metadata": {},
     "output_type": "display_data"
    },
    {
     "name": "stdout",
     "output_type": "stream",
     "text": [
      " Val. Loss: 0.0697\n"
     ]
    },
    {
     "data": {
      "application/vnd.jupyter.widget-view+json": {
       "model_id": "acbcfc256a5542eb93d32b8aac84ca44",
       "version_major": 2,
       "version_minor": 0
      },
      "text/plain": [
       "Validation: |          | 0/? [00:00<?, ?it/s]"
      ]
     },
     "metadata": {},
     "output_type": "display_data"
    },
    {
     "name": "stdout",
     "output_type": "stream",
     "text": [
      " Val. Loss: 0.0696\n"
     ]
    },
    {
     "data": {
      "application/vnd.jupyter.widget-view+json": {
       "model_id": "f76387e0b42e424991158ddac782b619",
       "version_major": 2,
       "version_minor": 0
      },
      "text/plain": [
       "Validation: |          | 0/? [00:00<?, ?it/s]"
      ]
     },
     "metadata": {},
     "output_type": "display_data"
    },
    {
     "name": "stdout",
     "output_type": "stream",
     "text": [
      " Val. Loss: 0.0688\n"
     ]
    },
    {
     "data": {
      "application/vnd.jupyter.widget-view+json": {
       "model_id": "a9944d8bc5aa498593c3065a3dd875a8",
       "version_major": 2,
       "version_minor": 0
      },
      "text/plain": [
       "Validation: |          | 0/? [00:00<?, ?it/s]"
      ]
     },
     "metadata": {},
     "output_type": "display_data"
    },
    {
     "name": "stdout",
     "output_type": "stream",
     "text": [
      " Val. Loss: 0.0693\n"
     ]
    },
    {
     "data": {
      "application/vnd.jupyter.widget-view+json": {
       "model_id": "4f2587c54ced4bb8b43fb53523022548",
       "version_major": 2,
       "version_minor": 0
      },
      "text/plain": [
       "Validation: |          | 0/? [00:00<?, ?it/s]"
      ]
     },
     "metadata": {},
     "output_type": "display_data"
    },
    {
     "name": "stdout",
     "output_type": "stream",
     "text": [
      " Val. Loss: 0.0691\n"
     ]
    },
    {
     "data": {
      "application/vnd.jupyter.widget-view+json": {
       "model_id": "03dfe27aad6d481692d30c80a4e0595d",
       "version_major": 2,
       "version_minor": 0
      },
      "text/plain": [
       "Validation: |          | 0/? [00:00<?, ?it/s]"
      ]
     },
     "metadata": {},
     "output_type": "display_data"
    },
    {
     "name": "stdout",
     "output_type": "stream",
     "text": [
      " Val. Loss: 0.0693\n"
     ]
    },
    {
     "data": {
      "application/vnd.jupyter.widget-view+json": {
       "model_id": "c98a5e33738247d786ca1610ea7dc07b",
       "version_major": 2,
       "version_minor": 0
      },
      "text/plain": [
       "Validation: |          | 0/? [00:00<?, ?it/s]"
      ]
     },
     "metadata": {},
     "output_type": "display_data"
    },
    {
     "name": "stdout",
     "output_type": "stream",
     "text": [
      " Val. Loss: 0.0692\n"
     ]
    },
    {
     "data": {
      "application/vnd.jupyter.widget-view+json": {
       "model_id": "a9fbadcc3ec84c6abef63911988c7faa",
       "version_major": 2,
       "version_minor": 0
      },
      "text/plain": [
       "Validation: |          | 0/? [00:00<?, ?it/s]"
      ]
     },
     "metadata": {},
     "output_type": "display_data"
    },
    {
     "name": "stdout",
     "output_type": "stream",
     "text": [
      " Val. Loss: 0.0689\n"
     ]
    },
    {
     "data": {
      "application/vnd.jupyter.widget-view+json": {
       "model_id": "3d6f72d8dd4340eb978c00f558f5530f",
       "version_major": 2,
       "version_minor": 0
      },
      "text/plain": [
       "Validation: |          | 0/? [00:00<?, ?it/s]"
      ]
     },
     "metadata": {},
     "output_type": "display_data"
    },
    {
     "name": "stdout",
     "output_type": "stream",
     "text": [
      " Val. Loss: 0.0696\n"
     ]
    },
    {
     "data": {
      "application/vnd.jupyter.widget-view+json": {
       "model_id": "a5b2d6c355224467b12d8bab5f89d850",
       "version_major": 2,
       "version_minor": 0
      },
      "text/plain": [
       "Validation: |          | 0/? [00:00<?, ?it/s]"
      ]
     },
     "metadata": {},
     "output_type": "display_data"
    },
    {
     "name": "stdout",
     "output_type": "stream",
     "text": [
      " Val. Loss: 0.0700\n"
     ]
    },
    {
     "data": {
      "application/vnd.jupyter.widget-view+json": {
       "model_id": "5c21363cf3ff4bc885fd09e4f8a1d35d",
       "version_major": 2,
       "version_minor": 0
      },
      "text/plain": [
       "Validation: |          | 0/? [00:00<?, ?it/s]"
      ]
     },
     "metadata": {},
     "output_type": "display_data"
    },
    {
     "name": "stdout",
     "output_type": "stream",
     "text": [
      " Val. Loss: 0.0694\n"
     ]
    },
    {
     "data": {
      "application/vnd.jupyter.widget-view+json": {
       "model_id": "7436ea76268c4499a8c47c22ff1c632b",
       "version_major": 2,
       "version_minor": 0
      },
      "text/plain": [
       "Validation: |          | 0/? [00:00<?, ?it/s]"
      ]
     },
     "metadata": {},
     "output_type": "display_data"
    },
    {
     "name": "stdout",
     "output_type": "stream",
     "text": [
      " Val. Loss: 0.0700\n"
     ]
    },
    {
     "data": {
      "application/vnd.jupyter.widget-view+json": {
       "model_id": "1d22c47733b74b848324081a837f5a32",
       "version_major": 2,
       "version_minor": 0
      },
      "text/plain": [
       "Validation: |          | 0/? [00:00<?, ?it/s]"
      ]
     },
     "metadata": {},
     "output_type": "display_data"
    },
    {
     "name": "stdout",
     "output_type": "stream",
     "text": [
      " Val. Loss: 0.0695\n"
     ]
    },
    {
     "data": {
      "application/vnd.jupyter.widget-view+json": {
       "model_id": "911eb3878085487db8063fb8ec413130",
       "version_major": 2,
       "version_minor": 0
      },
      "text/plain": [
       "Validation: |          | 0/? [00:00<?, ?it/s]"
      ]
     },
     "metadata": {},
     "output_type": "display_data"
    },
    {
     "name": "stdout",
     "output_type": "stream",
     "text": [
      " Val. Loss: 0.0698\n"
     ]
    },
    {
     "data": {
      "application/vnd.jupyter.widget-view+json": {
       "model_id": "c69a0e7388254fa2b6c2ab78b8d3c2dc",
       "version_major": 2,
       "version_minor": 0
      },
      "text/plain": [
       "Validation: |          | 0/? [00:00<?, ?it/s]"
      ]
     },
     "metadata": {},
     "output_type": "display_data"
    },
    {
     "name": "stdout",
     "output_type": "stream",
     "text": [
      " Val. Loss: 0.0692\n"
     ]
    },
    {
     "data": {
      "application/vnd.jupyter.widget-view+json": {
       "model_id": "9ddc3f640f014be3830f96a44adfe227",
       "version_major": 2,
       "version_minor": 0
      },
      "text/plain": [
       "Validation: |          | 0/? [00:00<?, ?it/s]"
      ]
     },
     "metadata": {},
     "output_type": "display_data"
    },
    {
     "name": "stdout",
     "output_type": "stream",
     "text": [
      " Val. Loss: 0.0694\n"
     ]
    },
    {
     "data": {
      "application/vnd.jupyter.widget-view+json": {
       "model_id": "fad8cf1bd9104d83b9d98903ad5bcc43",
       "version_major": 2,
       "version_minor": 0
      },
      "text/plain": [
       "Validation: |          | 0/? [00:00<?, ?it/s]"
      ]
     },
     "metadata": {},
     "output_type": "display_data"
    },
    {
     "name": "stdout",
     "output_type": "stream",
     "text": [
      " Val. Loss: 0.0693\n"
     ]
    },
    {
     "data": {
      "application/vnd.jupyter.widget-view+json": {
       "model_id": "ec68506ea13243d0aeaffec2b8c0388b",
       "version_major": 2,
       "version_minor": 0
      },
      "text/plain": [
       "Validation: |          | 0/? [00:00<?, ?it/s]"
      ]
     },
     "metadata": {},
     "output_type": "display_data"
    },
    {
     "name": "stdout",
     "output_type": "stream",
     "text": [
      " Val. Loss: 0.0691\n"
     ]
    },
    {
     "data": {
      "application/vnd.jupyter.widget-view+json": {
       "model_id": "a8179a27aa304191a02c272ec9613ba4",
       "version_major": 2,
       "version_minor": 0
      },
      "text/plain": [
       "Validation: |          | 0/? [00:00<?, ?it/s]"
      ]
     },
     "metadata": {},
     "output_type": "display_data"
    },
    {
     "name": "stdout",
     "output_type": "stream",
     "text": [
      " Val. Loss: 0.0696\n"
     ]
    },
    {
     "data": {
      "application/vnd.jupyter.widget-view+json": {
       "model_id": "cb7b59cc566d4592b51b564f3f57c4a3",
       "version_major": 2,
       "version_minor": 0
      },
      "text/plain": [
       "Validation: |          | 0/? [00:00<?, ?it/s]"
      ]
     },
     "metadata": {},
     "output_type": "display_data"
    },
    {
     "name": "stdout",
     "output_type": "stream",
     "text": [
      " Val. Loss: 0.0696\n"
     ]
    },
    {
     "data": {
      "application/vnd.jupyter.widget-view+json": {
       "model_id": "345bb1bf49e445d2bca6173b4001cbc7",
       "version_major": 2,
       "version_minor": 0
      },
      "text/plain": [
       "Validation: |          | 0/? [00:00<?, ?it/s]"
      ]
     },
     "metadata": {},
     "output_type": "display_data"
    },
    {
     "name": "stdout",
     "output_type": "stream",
     "text": [
      " Val. Loss: 0.0696\n"
     ]
    },
    {
     "data": {
      "application/vnd.jupyter.widget-view+json": {
       "model_id": "467f9c2d2c2c479d85997fdfc38ad777",
       "version_major": 2,
       "version_minor": 0
      },
      "text/plain": [
       "Validation: |          | 0/? [00:00<?, ?it/s]"
      ]
     },
     "metadata": {},
     "output_type": "display_data"
    },
    {
     "name": "stdout",
     "output_type": "stream",
     "text": [
      " Val. Loss: 0.0694\n"
     ]
    },
    {
     "data": {
      "application/vnd.jupyter.widget-view+json": {
       "model_id": "8abc24e2024943dda854332b7d768d93",
       "version_major": 2,
       "version_minor": 0
      },
      "text/plain": [
       "Validation: |          | 0/? [00:00<?, ?it/s]"
      ]
     },
     "metadata": {},
     "output_type": "display_data"
    },
    {
     "name": "stdout",
     "output_type": "stream",
     "text": [
      " Val. Loss: 0.0692\n"
     ]
    },
    {
     "data": {
      "application/vnd.jupyter.widget-view+json": {
       "model_id": "c7b9d97e076d46ef8c290a55dff8dd56",
       "version_major": 2,
       "version_minor": 0
      },
      "text/plain": [
       "Validation: |          | 0/? [00:00<?, ?it/s]"
      ]
     },
     "metadata": {},
     "output_type": "display_data"
    },
    {
     "name": "stdout",
     "output_type": "stream",
     "text": [
      " Val. Loss: 0.0699\n"
     ]
    },
    {
     "data": {
      "application/vnd.jupyter.widget-view+json": {
       "model_id": "2250f9ece0bc49958eff1e7e4d7f73ea",
       "version_major": 2,
       "version_minor": 0
      },
      "text/plain": [
       "Validation: |          | 0/? [00:00<?, ?it/s]"
      ]
     },
     "metadata": {},
     "output_type": "display_data"
    },
    {
     "name": "stdout",
     "output_type": "stream",
     "text": [
      " Val. Loss: 0.0695\n"
     ]
    },
    {
     "data": {
      "application/vnd.jupyter.widget-view+json": {
       "model_id": "e41e9ca892754b319c0475c20d8f4621",
       "version_major": 2,
       "version_minor": 0
      },
      "text/plain": [
       "Validation: |          | 0/? [00:00<?, ?it/s]"
      ]
     },
     "metadata": {},
     "output_type": "display_data"
    },
    {
     "name": "stdout",
     "output_type": "stream",
     "text": [
      " Val. Loss: 0.0690\n"
     ]
    },
    {
     "data": {
      "application/vnd.jupyter.widget-view+json": {
       "model_id": "bcb905b7c08141d7b2b4dc54f77c3d36",
       "version_major": 2,
       "version_minor": 0
      },
      "text/plain": [
       "Validation: |          | 0/? [00:00<?, ?it/s]"
      ]
     },
     "metadata": {},
     "output_type": "display_data"
    },
    {
     "name": "stdout",
     "output_type": "stream",
     "text": [
      " Val. Loss: 0.0691\n"
     ]
    },
    {
     "data": {
      "application/vnd.jupyter.widget-view+json": {
       "model_id": "ccf5d09870e84ec5810e57785a5b3913",
       "version_major": 2,
       "version_minor": 0
      },
      "text/plain": [
       "Validation: |          | 0/? [00:00<?, ?it/s]"
      ]
     },
     "metadata": {},
     "output_type": "display_data"
    },
    {
     "name": "stdout",
     "output_type": "stream",
     "text": [
      " Val. Loss: 0.0695\n"
     ]
    },
    {
     "data": {
      "application/vnd.jupyter.widget-view+json": {
       "model_id": "84a5e73ea73441258ca2b78c89fcab68",
       "version_major": 2,
       "version_minor": 0
      },
      "text/plain": [
       "Validation: |          | 0/? [00:00<?, ?it/s]"
      ]
     },
     "metadata": {},
     "output_type": "display_data"
    },
    {
     "name": "stdout",
     "output_type": "stream",
     "text": [
      " Val. Loss: 0.0693\n"
     ]
    },
    {
     "data": {
      "application/vnd.jupyter.widget-view+json": {
       "model_id": "edb903a6ae43442e8842bc83a6316b05",
       "version_major": 2,
       "version_minor": 0
      },
      "text/plain": [
       "Validation: |          | 0/? [00:00<?, ?it/s]"
      ]
     },
     "metadata": {},
     "output_type": "display_data"
    },
    {
     "name": "stdout",
     "output_type": "stream",
     "text": [
      " Val. Loss: 0.0689\n"
     ]
    },
    {
     "data": {
      "application/vnd.jupyter.widget-view+json": {
       "model_id": "a699cc585dba4035a3f67929bf9e9109",
       "version_major": 2,
       "version_minor": 0
      },
      "text/plain": [
       "Validation: |          | 0/? [00:00<?, ?it/s]"
      ]
     },
     "metadata": {},
     "output_type": "display_data"
    },
    {
     "name": "stdout",
     "output_type": "stream",
     "text": [
      " Val. Loss: 0.0695\n"
     ]
    },
    {
     "data": {
      "application/vnd.jupyter.widget-view+json": {
       "model_id": "24fc95dcf41449599d3fed7fd90968aa",
       "version_major": 2,
       "version_minor": 0
      },
      "text/plain": [
       "Validation: |          | 0/? [00:00<?, ?it/s]"
      ]
     },
     "metadata": {},
     "output_type": "display_data"
    },
    {
     "name": "stdout",
     "output_type": "stream",
     "text": [
      " Val. Loss: 0.0690\n"
     ]
    },
    {
     "data": {
      "application/vnd.jupyter.widget-view+json": {
       "model_id": "8735e5c814064d99bd3a01a9ecc8639d",
       "version_major": 2,
       "version_minor": 0
      },
      "text/plain": [
       "Validation: |          | 0/? [00:00<?, ?it/s]"
      ]
     },
     "metadata": {},
     "output_type": "display_data"
    },
    {
     "name": "stdout",
     "output_type": "stream",
     "text": [
      " Val. Loss: 0.0697\n"
     ]
    },
    {
     "data": {
      "application/vnd.jupyter.widget-view+json": {
       "model_id": "12e11f4766a5451291e5d5d9e5dcb472",
       "version_major": 2,
       "version_minor": 0
      },
      "text/plain": [
       "Validation: |          | 0/? [00:00<?, ?it/s]"
      ]
     },
     "metadata": {},
     "output_type": "display_data"
    },
    {
     "name": "stdout",
     "output_type": "stream",
     "text": [
      " Val. Loss: 0.0694\n"
     ]
    },
    {
     "data": {
      "application/vnd.jupyter.widget-view+json": {
       "model_id": "76be9384455d438e90818372bea05bf4",
       "version_major": 2,
       "version_minor": 0
      },
      "text/plain": [
       "Validation: |          | 0/? [00:00<?, ?it/s]"
      ]
     },
     "metadata": {},
     "output_type": "display_data"
    },
    {
     "name": "stdout",
     "output_type": "stream",
     "text": [
      " Val. Loss: 0.0697\n"
     ]
    },
    {
     "data": {
      "application/vnd.jupyter.widget-view+json": {
       "model_id": "aea174564d2548f485248fd469f0ab05",
       "version_major": 2,
       "version_minor": 0
      },
      "text/plain": [
       "Validation: |          | 0/? [00:00<?, ?it/s]"
      ]
     },
     "metadata": {},
     "output_type": "display_data"
    },
    {
     "name": "stdout",
     "output_type": "stream",
     "text": [
      " Val. Loss: 0.0700\n"
     ]
    },
    {
     "data": {
      "application/vnd.jupyter.widget-view+json": {
       "model_id": "5a3a0525a00a419fa7e39513139e48d3",
       "version_major": 2,
       "version_minor": 0
      },
      "text/plain": [
       "Validation: |          | 0/? [00:00<?, ?it/s]"
      ]
     },
     "metadata": {},
     "output_type": "display_data"
    },
    {
     "name": "stdout",
     "output_type": "stream",
     "text": [
      " Val. Loss: 0.0691\n"
     ]
    },
    {
     "data": {
      "application/vnd.jupyter.widget-view+json": {
       "model_id": "1fceb3675d9443c69a1fd75fa04f4d49",
       "version_major": 2,
       "version_minor": 0
      },
      "text/plain": [
       "Validation: |          | 0/? [00:00<?, ?it/s]"
      ]
     },
     "metadata": {},
     "output_type": "display_data"
    },
    {
     "name": "stdout",
     "output_type": "stream",
     "text": [
      " Val. Loss: 0.0706\n"
     ]
    },
    {
     "data": {
      "application/vnd.jupyter.widget-view+json": {
       "model_id": "060202241fcc47d7be73dc994cb8415f",
       "version_major": 2,
       "version_minor": 0
      },
      "text/plain": [
       "Validation: |          | 0/? [00:00<?, ?it/s]"
      ]
     },
     "metadata": {},
     "output_type": "display_data"
    },
    {
     "name": "stdout",
     "output_type": "stream",
     "text": [
      " Val. Loss: 0.0700\n"
     ]
    },
    {
     "data": {
      "application/vnd.jupyter.widget-view+json": {
       "model_id": "f669ace7c0d2417186552f85dc8f1bbb",
       "version_major": 2,
       "version_minor": 0
      },
      "text/plain": [
       "Validation: |          | 0/? [00:00<?, ?it/s]"
      ]
     },
     "metadata": {},
     "output_type": "display_data"
    },
    {
     "name": "stderr",
     "output_type": "stream",
     "text": [
      "`Trainer.fit` stopped: `max_epochs=50` reached.\n"
     ]
    },
    {
     "name": "stdout",
     "output_type": "stream",
     "text": [
      " Val. Loss: 0.0691\n"
     ]
    },
    {
     "data": {
      "application/vnd.jupyter.widget-view+json": {
       "model_id": "1c7ce027a926457e984cc27b51b22181",
       "version_major": 2,
       "version_minor": 0
      },
      "text/plain": [
       "Validation: |          | 0/? [00:00<?, ?it/s]"
      ]
     },
     "metadata": {},
     "output_type": "display_data"
    },
    {
     "name": "stdout",
     "output_type": "stream",
     "text": [
      " Val. Loss: 0.0691\n"
     ]
    },
    {
     "data": {
      "text/html": [
       "<pre style=\"white-space:pre;overflow-x:auto;line-height:normal;font-family:Menlo,'DejaVu Sans Mono',consolas,'Courier New',monospace\">┏━━━━━━━━━━━━━━━━━━━━━━━━━━━┳━━━━━━━━━━━━━━━━━━━━━━━━━━━┓\n",
       "┃<span style=\"font-weight: bold\">      Validate metric      </span>┃<span style=\"font-weight: bold\">       DataLoader 0        </span>┃\n",
       "┡━━━━━━━━━━━━━━━━━━━━━━━━━━━╇━━━━━━━━━━━━━━━━━━━━━━━━━━━┩\n",
       "│<span style=\"color: #008080; text-decoration-color: #008080\">         val_loss          </span>│<span style=\"color: #800080; text-decoration-color: #800080\">    0.06910309195518494    </span>│\n",
       "└───────────────────────────┴───────────────────────────┘\n",
       "</pre>\n"
      ],
      "text/plain": [
       "┏━━━━━━━━━━━━━━━━━━━━━━━━━━━┳━━━━━━━━━━━━━━━━━━━━━━━━━━━┓\n",
       "┃\u001b[1m \u001b[0m\u001b[1m     Validate metric     \u001b[0m\u001b[1m \u001b[0m┃\u001b[1m \u001b[0m\u001b[1m      DataLoader 0       \u001b[0m\u001b[1m \u001b[0m┃\n",
       "┡━━━━━━━━━━━━━━━━━━━━━━━━━━━╇━━━━━━━━━━━━━━━━━━━━━━━━━━━┩\n",
       "│\u001b[36m \u001b[0m\u001b[36m        val_loss         \u001b[0m\u001b[36m \u001b[0m│\u001b[35m \u001b[0m\u001b[35m   0.06910309195518494   \u001b[0m\u001b[35m \u001b[0m│\n",
       "└───────────────────────────┴───────────────────────────┘\n"
      ]
     },
     "metadata": {},
     "output_type": "display_data"
    },
    {
     "data": {
      "text/plain": [
       "[{'val_loss': 0.06910309195518494}]"
      ]
     },
     "execution_count": 189,
     "metadata": {},
     "output_type": "execute_result"
    }
   ],
   "source": [
    "datamodule = Datamodule(\n",
    "    datadir=Path(\"yeast_cell_in_microstructures_dataset\"),\n",
    "    dataset_class=YeastDetectionDataset,\n",
    "    batch_size=8,\n",
    ")\n",
    "\n",
    "datamodule.setup(\"fit\")\n",
    "\n",
    "trainer = L.Trainer(\n",
    "    accelerator=\"auto\",\n",
    "    max_epochs=50,\n",
    "    limit_train_batches=None,\n",
    "    limit_val_batches=None,\n",
    "    log_every_n_steps=10\n",
    ")\n",
    "lit_module = Lit(\n",
    "    model=TinyYOLO(in_channels=1, num_anchors=len(rescaled_anchors), num_classes=2),\n",
    "    learning_rate=4e-3,\n",
    ")\n",
    "trainer.fit(\n",
    "    model=lit_module,\n",
    "    datamodule=datamodule,\n",
    ")\n",
    "\n",
    "trainer.validate(model=lit_module, dataloaders=datamodule.val_dataloader())\n"
   ]
  },
  {
   "cell_type": "code",
   "execution_count": 190,
   "metadata": {},
   "outputs": [
    {
     "name": "stdout",
     "output_type": "stream",
     "text": [
      "{'map': tensor(0.6389), 'map_50': tensor(0.9390), 'map_75': tensor(0.7394), 'map_small': tensor(0.6389), 'map_medium': tensor(-1.), 'map_large': tensor(-1.), 'mar_1': tensor(0.3360), 'mar_10': tensor(0.6899), 'mar_100': tensor(0.6899), 'mar_small': tensor(0.6899), 'mar_medium': tensor(-1.), 'mar_large': tensor(-1.), 'map_per_class': tensor([0.8092, 0.4687]), 'mar_100_per_class': tensor([0.8408, 0.5389]), 'classes': tensor([1, 2], dtype=torch.int32)}\n"
     ]
    }
   ],
   "source": [
    "val_loader = DataLoader(dataset=val_dataset, batch_size=batch_size, shuffle=False)\n",
    "\n",
    "metric = MeanAveragePrecision(iou_type=\"bbox\", box_format=\"cxcywh\", class_metrics=True).to(device)\n",
    "\n",
    "for x, y in val_loader:\n",
    "    predicted_boxes = []\n",
    "    target_boxes = []\n",
    "\n",
    "    preds = lit_module.model.to(device)(x.to(device))\n",
    "\n",
    "    # итерируемся по элементам батча, собирая пердсказанные и верные рамки\n",
    "    for i in range(len(y)):\n",
    "        # получаем предсказанные рамки\n",
    "        pred_boxes = cells_to_bboxes(preds[i:i+1], rescaled_anchors.to(device), is_predictions=True)\n",
    "        # ВАЖНО: делаем non-max suppression ДО расчёта метрик\n",
    "        pred_boxes = pred_boxes[nms(box_convert(pred_boxes[:, 2:], \"cxcywh\", \"xyxy\"), pred_boxes[:, 1], iou_threshold=0.3)]\n",
    "        predicted_boxes.append(\n",
    "            dict(\n",
    "                boxes=pred_boxes[:, 2:],\n",
    "                scores=pred_boxes[:, 1],\n",
    "                labels=pred_boxes[:, 0].long(),\n",
    "            )\n",
    "        )\n",
    "        # достаём правильные рамки\n",
    "        true_boxes = cells_to_bboxes(y[i:i+1], rescaled_anchors)\n",
    "        true_boxes = true_boxes[true_boxes[:, 1] == 1]\n",
    "\n",
    "        target_boxes.append(\n",
    "            dict(\n",
    "                boxes=true_boxes[:, 2:],\n",
    "                labels=true_boxes[:, 0].long(),\n",
    "            )\n",
    "        )\n",
    "    metric.update(predicted_boxes, target_boxes)\n",
    "\n",
    "print(metric.compute())\n"
   ]
  },
  {
   "cell_type": "markdown",
   "metadata": {},
   "source": [
    "### Задание 3 (3 балла). Выбор anchors с помощью кластеризации\n",
    "\n",
    "В статье [YOLO9000: Better, Faster, Stronger](https://arxiv.org/abs/1612.08242) в разделе 2. Better. Dimension clusters описан способ выбора anchor boxes через кластеризацию обучающего датасета.\n",
    "\n",
    "Проделайте то же самое с вашим обучающим датасетом, чтобы выбрать несколько anchor boxes.\n",
    "\n",
    "В качестве результата выведите получившиеся размеры anchors для # Clusters = 5"
   ]
  },
  {
   "cell_type": "code",
   "execution_count": 91,
   "metadata": {},
   "outputs": [],
   "source": [
    "from pyclustering.utils.metric import type_metric, distance_metric\n",
    "from pyclustering.cluster.center_initializer import kmeans_plusplus_initializer\n",
    "from pyclustering.cluster.kmeans import kmeans\n",
    "import warnings\n",
    "np.warnings = warnings\n",
    "\n",
    "class YeastDetectionDataset(Dataset):\n",
    "    def __init__(\n",
    "        self, subset_dir: Path, image_size: int, grid_size: int = GRID_SIZE\n",
    "    ) -> None:\n",
    "        super().__init__()\n",
    "        self.subset_dir = subset_dir\n",
    "        self.items = list((self.subset_dir / \"inputs\").glob(\"*.pt\"))\n",
    "        # Ignore IoU threshold\n",
    "        self.ignore_iou_thresh = 0.5\n",
    "        self.grid_size = grid_size\n",
    "        self.image_size = image_size\n",
    "\n",
    "    def __len__(self) -> int:\n",
    "        return len(self.items)\n",
    "\n",
    "    def __getitem__(self, index: int) -> Tensor:\n",
    "        image_path = self.items[index]\n",
    "        boxes = torch.load(\n",
    "            self.subset_dir / \"bounding_boxes\" / image_path.parts[-1], weights_only=True\n",
    "        )\n",
    "        boxes = box_convert(boxes, \"xyxy\", \"cxcywh\")\n",
    "        return boxes\n",
    "\n",
    "train_dataset = YeastDetectionDataset(\n",
    "    Path(\"yeast_cell_in_microstructures_dataset/train\"), image_size=256\n",
    ")\n",
    "\n",
    "our_p_w_p_h = list()\n",
    "for i in range(len(train_dataset)):\n",
    "  for j in range(len(train_dataset[i])):\n",
    "    our_p_w_p_h.append([train_dataset[i][j][2], train_dataset[i][j][3]])\n",
    "\n",
    "\n",
    "def metric(x, y):\n",
    "  return 1 - (min(x[0], y[0]) * min(x[1], y[1]) / (x[0] * x[1] + y[0] * y[1] - (min(x[0], y[0]) * min(x[1], y[1]))))\n",
    "\n",
    "manhattan_metric = distance_metric(type_metric.USER_DEFINED, func=metric);\n",
    "initial_centers = kmeans_plusplus_initializer(our_p_w_p_h, 5).initialize()\n",
    "\n",
    "kmeans_instance = kmeans(our_p_w_p_h, initial_centers, metric=manhattan_metric)\n",
    "\n",
    "kmeans_instance.process()\n",
    "clusters = kmeans_instance.get_clusters()\n",
    "kmeans_instance.process()\n",
    "clusters = kmeans_instance.get_clusters()\n",
    "\n",
    "final_centers = kmeans_instance.get_centers()\n",
    "\n",
    "ANCHORS = final_centers\n",
    "\n",
    "rescaled_anchors = torch.tensor(ANCHORS).to(device=device) / IMAGE_SIZE * GRID_SIZE"
   ]
  },
  {
   "cell_type": "code",
   "execution_count": 93,
   "metadata": {},
   "outputs": [
    {
     "data": {
      "text/plain": [
       "[[43.63218307495117, 48.04597854614258],\n",
       " [91.29850769042969, 88.31343078613281],\n",
       " [57.17177963256836, 84.8282241821289],\n",
       " [61.79838562011719, 62.064517974853516],\n",
       " [70.28755187988281, 105.5622329711914]]"
      ]
     },
     "execution_count": 93,
     "metadata": {},
     "output_type": "execute_result"
    }
   ],
   "source": [
    "ANCHORS"
   ]
  },
  {
   "cell_type": "markdown",
   "metadata": {},
   "source": [
    "### Задание 4 (4 балла + бонусы за лучшую точность). Обучите модель\n",
    "\n",
    "\n",
    "Ваша цель: $mAP > 0.6$ на валидации.\n",
    "\n",
    "Можете использовать весь арсенал:\n",
    "- использование множества якорных рамок (сформированных вручную или в результате кластеризации)\n",
    "- любые изменения функции ошибки\n",
    "- любые изменения архитектуры модели и регуляризация\n",
    "- аугментации (вспоминаем `torchvision.transforms` и `albumentations`)\n",
    "- любая длительность обучения, оптимизатор, расписание для learning rate\n",
    "\n",
    "Бонусы за повышенную точность:\n",
    "- **5 баллов**: $mAP > 0.65$\n",
    "- **1 балл** за каждые следующие $0.01$ (т. е. за $mAP > 0.72$ в этом задании вы получите $4 + 12 = 16$ баллов)\n",
    "\n",
    "**Важно**: перез запуском обучения зафиксируйте `torch.manual_seed()`"
   ]
  },
  {
   "cell_type": "code",
   "execution_count": 197,
   "metadata": {},
   "outputs": [],
   "source": [
    "class YeastDetectionDataset(Dataset):\n",
    "    def __init__(\n",
    "        self, subset_dir: Path, anchors: list[tuple[int, int]], image_size: int, grid_size: int = GRID_SIZE\n",
    "    ) -> None:\n",
    "        super().__init__()\n",
    "        self.subset_dir = subset_dir\n",
    "        self.items = list((self.subset_dir / \"inputs\").glob(\"*.pt\"))\n",
    "        # Ignore IoU threshold\n",
    "        self.ignore_iou_thresh = 0.5\n",
    "        self.rescaled_anchors = torch.tensor(anchors) / image_size * grid_size\n",
    "        self.grid_size = grid_size\n",
    "        self.image_size = image_size\n",
    "\n",
    "    def __len__(self) -> int:\n",
    "        return len(self.items)\n",
    "\n",
    "    def __getitem__(self, index: int) -> tuple[Tensor, Tensor]:\n",
    "        image_path = self.items[index]\n",
    "        # load everything\n",
    "        image = torch.load(image_path, weights_only=True).unsqueeze(0)\n",
    "        classes = (\n",
    "            torch.load(self.subset_dir / \"classes\" / image_path.parts[-1], weights_only=True) + 1\n",
    "        )\n",
    "        boxes = torch.load(\n",
    "            self.subset_dir / \"bounding_boxes\" / image_path.parts[-1], weights_only=True\n",
    "        )\n",
    "        boxes = box_convert(boxes, \"xyxy\", \"cxcywh\") / self.image_size\n",
    "\n",
    "        # convert boxes to cells\n",
    "        targets = boxes_to_cells(\n",
    "            boxes, classes, self.rescaled_anchors, self.grid_size, self.ignore_iou_thresh\n",
    "        )\n",
    "        return image.to(device), targets.to(device)"
   ]
  },
  {
   "cell_type": "code",
   "execution_count": 281,
   "metadata": {},
   "outputs": [],
   "source": [
    "class YOLOLoss(nn.Module):\n",
    "    def __init__(self):\n",
    "        super().__init__()\n",
    "        self.mse = nn.MSELoss()\n",
    "        self.bce = nn.BCEWithLogitsLoss()\n",
    "        self.cross_entropy = nn.CrossEntropyLoss()\n",
    "\n",
    "    def forward(self, pred: Tensor, target: Tensor, anchors: Tensor) -> Tensor:\n",
    "        # ниже входные тензоры будут меняться на месте, так что склонируем их\n",
    "        pred = pred.clone()\n",
    "        target = target.clone()\n",
    "\n",
    "        # разделяем рамки на содержащие объекты и не содержащие\n",
    "        # NB: ещё могут быть -1, куда отнеслось более 1 объекта - их не учитываем\n",
    "        obj = target[..., 0] == 1\n",
    "        no_obj = target[..., 0] == 0\n",
    "\n",
    "        # преобразуем предсказания bbox\n",
    "        scores, pred_boxes, logits = process_yolo_preds(pred, anchors)\n",
    "\n",
    "        # no object loss: кросс-энтропия вместо MSE\n",
    "        no_object_loss = self.bce(\n",
    "            (scores[no_obj]),\n",
    "            (target[..., 0:1][no_obj]),\n",
    "        )\n",
    "\n",
    "        # object loss: учим предсказывать IoU\n",
    "        ious = intersection_over_union(pred_boxes[obj], target[..., 1:5][obj]).detach()\n",
    "        object_loss = self.mse(scores[obj].sigmoid(), ious * target[..., 0:1][obj])\n",
    "\n",
    "        # box coordinate loss: логарифмируем размеры рамок перед расчётом MSE\n",
    "        anchors = anchors.reshape(1, len(anchors), 1, 1, 2)\n",
    "        pred[..., 1:3] = pred[..., 1:3].sigmoid()\n",
    "        target[..., 3:5] = torch.log(1e-6 + target[..., 3:5] / anchors)\n",
    "        box_loss = self.mse(pred[..., 1:5][obj], target[..., 1:5][obj])\n",
    "\n",
    "        # class loss: здесь всё обычно\n",
    "        class_loss = self.cross_entropy(logits[obj], target[..., 5][obj].long() - 1)\n",
    "\n",
    "        # Total loss\n",
    "        return box_loss + object_loss + no_object_loss + class_loss"
   ]
  },
  {
   "cell_type": "code",
   "execution_count": 287,
   "metadata": {},
   "outputs": [],
   "source": [
    "class Lit(L.LightningModule):\n",
    "    def __init__(self, model: nn.Module, learning_rate: float) -> None:\n",
    "        super().__init__()\n",
    "        self.save_hyperparameters()\n",
    "        self.model = model\n",
    "        self.learning_rate = learning_rate\n",
    "        self.loss_fn = YOLOLoss()\n",
    "\n",
    "    def training_step(\n",
    "        self, batch: tuple[Tensor, Tensor], batch_idx: int\n",
    "    ) -> STEP_OUTPUT:\n",
    "        x, y = batch\n",
    "        y_hat = self.model(x)\n",
    "        loss = self.loss_fn.forward(y_hat, y, rescaled_anchors)\n",
    "        self.log(\"train_loss\", loss, on_epoch=True, on_step=False)\n",
    "        # обновляем метрики и логируем раз в эпоху\n",
    "\n",
    "        return loss\n",
    "\n",
    "    def validation_step(\n",
    "        self, batch: tuple[Tensor, Tensor], batch_idx: int\n",
    "    ) -> STEP_OUTPUT | None:\n",
    "        x, y = batch\n",
    "        y_hat = self.model(x)\n",
    "        loss = self.loss_fn.forward(y_hat, y, rescaled_anchors)\n",
    "        self.log(\"val_loss\", loss, on_epoch=True, on_step=False)\n",
    "        # обновляем метрики и логируем раз в эпоху\n",
    "        return {\n",
    "            \"loss\": loss,\n",
    "            \"preds\": y_hat,\n",
    "        }\n",
    "    \n",
    "    def on_validation_epoch_end(self) -> None:\n",
    "        val_loss = self.trainer.callback_metrics[\"val_loss\"]\n",
    "        print(f\" Val. Loss: {val_loss:.4f}\")\n",
    "    \n",
    "\n",
    "    def configure_optimizers(self) -> dict[str, Any]:\n",
    "        optimizer = torch.optim.Adam(self.model.parameters(), lr=self.learning_rate, weight_decay=1e-4)\n",
    "        # давайте кроме оптимизатора создадим ещё расписание для шага оптимизации\n",
    "        return {\n",
    "            \"optimizer\": optimizer,\n",
    "            \"lr_scheduler\": torch.optim.lr_scheduler.MultiStepLR(\n",
    "                optimizer, milestones=[5, 10, 15]\n",
    "            ),\n",
    "        }\n"
   ]
  },
  {
   "cell_type": "code",
   "execution_count": 288,
   "metadata": {},
   "outputs": [
    {
     "name": "stdout",
     "output_type": "stream",
     "text": [
      "110183\n"
     ]
    },
    {
     "data": {
      "text/plain": [
       "torch.Size([2, 1, 8, 8, 7])"
      ]
     },
     "execution_count": 288,
     "metadata": {},
     "output_type": "execute_result"
    }
   ],
   "source": [
    "class CNNBlock(nn.Module):\n",
    "    def __init__(self, in_channels: int, out_channels: int, **kwargs):\n",
    "        super().__init__()\n",
    "        self.conv = nn.Conv2d(in_channels, out_channels, bias=True, **kwargs)\n",
    "        self.bn = nn.BatchNorm2d(out_channels)\n",
    "        self.activation = nn.LogSigmoid()\n",
    "\n",
    "    def forward(self, x):\n",
    "        x = self.conv(x)\n",
    "        x = self.bn(x)\n",
    "        return self.activation(x)\n",
    "\n",
    "class TinyYOLO(nn.Module):\n",
    "    def __init__(self, num_classes: int = 2, num_anchors: int = 1, in_channels: int = 1) -> None:\n",
    "        super().__init__()\n",
    "        self.num_classes = num_classes\n",
    "        self.in_channels = in_channels\n",
    "        self.num_anchors = num_anchors\n",
    "        self.layers = nn.Sequential(\n",
    "            CNNBlock(1, 16, kernel_size=3, stride=2, padding=1, dilation=2),\n",
    "            CNNBlock(16, 32, kernel_size=3, stride=2, padding=1, dilation=2),\n",
    "            CNNBlock(32, 64, kernel_size=3, stride=2, padding=1, dilation=2),\n",
    "            CNNBlock(64, 128, kernel_size=3, stride=2, padding=1, groups=8),\n",
    "            CNNBlock(128, 256, kernel_size=3, stride=1, padding=1, groups=8),\n",
    "            CNNBlock(256, 256, kernel_size=3, stride=1, padding=1, groups=16),\n",
    "            nn.MaxPool2d(2, 2),\n",
    "            nn.Conv2d(256, num_anchors * (num_classes + 5), kernel_size=1)\n",
    "        )\n",
    "    \n",
    "    def forward(self, x: Tensor) -> Tensor:\n",
    "        x = self.layers(x)\n",
    "        B, _, W, H = x.shape\n",
    "        x = x.view(B, self.num_anchors, self.num_classes + 5, W, H)  # B A F W H\n",
    "        x = x.permute(0, 1, 3, 4, 2)  # B A W H F\n",
    "        return x\n",
    "\n",
    "\n",
    "model = TinyYOLO(in_channels=1, num_anchors=1, num_classes=2)\n",
    "print(sum(p.numel() for p in model.parameters()))\n",
    "model.forward(torch.randn(2, 1, 256, 256)).shape"
   ]
  },
  {
   "cell_type": "code",
   "execution_count": 289,
   "metadata": {},
   "outputs": [
    {
     "name": "stderr",
     "output_type": "stream",
     "text": [
      "GPU available: True (mps), used: True\n",
      "TPU available: False, using: 0 TPU cores\n",
      "HPU available: False, using: 0 HPUs\n",
      "\n",
      "  | Name    | Type     | Params | Mode \n",
      "---------------------------------------------\n",
      "0 | model   | TinyYOLO | 117 K  | train\n",
      "1 | loss_fn | YOLOLoss | 0      | train\n",
      "---------------------------------------------\n",
      "117 K     Trainable params\n",
      "0         Non-trainable params\n",
      "117 K     Total params\n",
      "0.470     Total estimated model params size (MB)\n",
      "32        Modules in train mode\n",
      "0         Modules in eval mode\n"
     ]
    },
    {
     "data": {
      "application/vnd.jupyter.widget-view+json": {
       "model_id": "7e0c783caf3e43dab9d455850f193194",
       "version_major": 2,
       "version_minor": 0
      },
      "text/plain": [
       "Sanity Checking: |          | 0/? [00:00<?, ?it/s]"
      ]
     },
     "metadata": {},
     "output_type": "display_data"
    },
    {
     "name": "stdout",
     "output_type": "stream",
     "text": [
      " Val. Loss: 1.3263\n"
     ]
    },
    {
     "data": {
      "application/vnd.jupyter.widget-view+json": {
       "model_id": "fad43c08823a49dca4f3a50365655b3e",
       "version_major": 2,
       "version_minor": 0
      },
      "text/plain": [
       "Training: |          | 0/? [00:00<?, ?it/s]"
      ]
     },
     "metadata": {},
     "output_type": "display_data"
    },
    {
     "data": {
      "application/vnd.jupyter.widget-view+json": {
       "model_id": "55f731be99ab43948c3d85ec442e9a97",
       "version_major": 2,
       "version_minor": 0
      },
      "text/plain": [
       "Validation: |          | 0/? [00:00<?, ?it/s]"
      ]
     },
     "metadata": {},
     "output_type": "display_data"
    },
    {
     "name": "stdout",
     "output_type": "stream",
     "text": [
      " Val. Loss: 0.2154\n"
     ]
    },
    {
     "data": {
      "application/vnd.jupyter.widget-view+json": {
       "model_id": "42dc5a4e2d6144cd8e94d63dbe4c6819",
       "version_major": 2,
       "version_minor": 0
      },
      "text/plain": [
       "Validation: |          | 0/? [00:00<?, ?it/s]"
      ]
     },
     "metadata": {},
     "output_type": "display_data"
    },
    {
     "name": "stdout",
     "output_type": "stream",
     "text": [
      " Val. Loss: 0.1818\n"
     ]
    },
    {
     "data": {
      "application/vnd.jupyter.widget-view+json": {
       "model_id": "f1490d5757a6441e89ba87d57f938079",
       "version_major": 2,
       "version_minor": 0
      },
      "text/plain": [
       "Validation: |          | 0/? [00:00<?, ?it/s]"
      ]
     },
     "metadata": {},
     "output_type": "display_data"
    },
    {
     "name": "stdout",
     "output_type": "stream",
     "text": [
      " Val. Loss: 0.1943\n"
     ]
    },
    {
     "data": {
      "application/vnd.jupyter.widget-view+json": {
       "model_id": "99a6d41adf1f491384a765ffe361a77a",
       "version_major": 2,
       "version_minor": 0
      },
      "text/plain": [
       "Validation: |          | 0/? [00:00<?, ?it/s]"
      ]
     },
     "metadata": {},
     "output_type": "display_data"
    },
    {
     "name": "stdout",
     "output_type": "stream",
     "text": [
      " Val. Loss: 0.1661\n"
     ]
    },
    {
     "data": {
      "application/vnd.jupyter.widget-view+json": {
       "model_id": "6501fccaa1a74e4b8ab5b15cfdd3a730",
       "version_major": 2,
       "version_minor": 0
      },
      "text/plain": [
       "Validation: |          | 0/? [00:00<?, ?it/s]"
      ]
     },
     "metadata": {},
     "output_type": "display_data"
    },
    {
     "name": "stdout",
     "output_type": "stream",
     "text": [
      " Val. Loss: 0.0850\n"
     ]
    },
    {
     "data": {
      "application/vnd.jupyter.widget-view+json": {
       "model_id": "ac09310bea9844369cfaecbdd185b343",
       "version_major": 2,
       "version_minor": 0
      },
      "text/plain": [
       "Validation: |          | 0/? [00:00<?, ?it/s]"
      ]
     },
     "metadata": {},
     "output_type": "display_data"
    },
    {
     "name": "stdout",
     "output_type": "stream",
     "text": [
      " Val. Loss: 0.0748\n"
     ]
    },
    {
     "data": {
      "application/vnd.jupyter.widget-view+json": {
       "model_id": "23c08e7334aa4babb6ef0bb695e8474d",
       "version_major": 2,
       "version_minor": 0
      },
      "text/plain": [
       "Validation: |          | 0/? [00:00<?, ?it/s]"
      ]
     },
     "metadata": {},
     "output_type": "display_data"
    },
    {
     "name": "stdout",
     "output_type": "stream",
     "text": [
      " Val. Loss: 0.0730\n"
     ]
    },
    {
     "data": {
      "application/vnd.jupyter.widget-view+json": {
       "model_id": "51c85d06bfa845d68a962b33d117810b",
       "version_major": 2,
       "version_minor": 0
      },
      "text/plain": [
       "Validation: |          | 0/? [00:00<?, ?it/s]"
      ]
     },
     "metadata": {},
     "output_type": "display_data"
    },
    {
     "name": "stdout",
     "output_type": "stream",
     "text": [
      " Val. Loss: 0.0782\n"
     ]
    },
    {
     "data": {
      "application/vnd.jupyter.widget-view+json": {
       "model_id": "cfd400ba683943639422967947e91934",
       "version_major": 2,
       "version_minor": 0
      },
      "text/plain": [
       "Validation: |          | 0/? [00:00<?, ?it/s]"
      ]
     },
     "metadata": {},
     "output_type": "display_data"
    },
    {
     "name": "stdout",
     "output_type": "stream",
     "text": [
      " Val. Loss: 0.0741\n"
     ]
    },
    {
     "data": {
      "application/vnd.jupyter.widget-view+json": {
       "model_id": "fcadacd342b54fc9bec97f796e268839",
       "version_major": 2,
       "version_minor": 0
      },
      "text/plain": [
       "Validation: |          | 0/? [00:00<?, ?it/s]"
      ]
     },
     "metadata": {},
     "output_type": "display_data"
    },
    {
     "name": "stderr",
     "output_type": "stream",
     "text": [
      "`Trainer.fit` stopped: `max_epochs=10` reached.\n"
     ]
    },
    {
     "name": "stdout",
     "output_type": "stream",
     "text": [
      " Val. Loss: 0.0704\n"
     ]
    },
    {
     "data": {
      "application/vnd.jupyter.widget-view+json": {
       "model_id": "4c29daf2c34a40e3bc603d60de6943b1",
       "version_major": 2,
       "version_minor": 0
      },
      "text/plain": [
       "Validation: |          | 0/? [00:00<?, ?it/s]"
      ]
     },
     "metadata": {},
     "output_type": "display_data"
    },
    {
     "name": "stdout",
     "output_type": "stream",
     "text": [
      " Val. Loss: 0.0704\n"
     ]
    },
    {
     "data": {
      "text/html": [
       "<pre style=\"white-space:pre;overflow-x:auto;line-height:normal;font-family:Menlo,'DejaVu Sans Mono',consolas,'Courier New',monospace\">┏━━━━━━━━━━━━━━━━━━━━━━━━━━━┳━━━━━━━━━━━━━━━━━━━━━━━━━━━┓\n",
       "┃<span style=\"font-weight: bold\">      Validate metric      </span>┃<span style=\"font-weight: bold\">       DataLoader 0        </span>┃\n",
       "┡━━━━━━━━━━━━━━━━━━━━━━━━━━━╇━━━━━━━━━━━━━━━━━━━━━━━━━━━┩\n",
       "│<span style=\"color: #008080; text-decoration-color: #008080\">         val_loss          </span>│<span style=\"color: #800080; text-decoration-color: #800080\">    0.07035048305988312    </span>│\n",
       "└───────────────────────────┴───────────────────────────┘\n",
       "</pre>\n"
      ],
      "text/plain": [
       "┏━━━━━━━━━━━━━━━━━━━━━━━━━━━┳━━━━━━━━━━━━━━━━━━━━━━━━━━━┓\n",
       "┃\u001b[1m \u001b[0m\u001b[1m     Validate metric     \u001b[0m\u001b[1m \u001b[0m┃\u001b[1m \u001b[0m\u001b[1m      DataLoader 0       \u001b[0m\u001b[1m \u001b[0m┃\n",
       "┡━━━━━━━━━━━━━━━━━━━━━━━━━━━╇━━━━━━━━━━━━━━━━━━━━━━━━━━━┩\n",
       "│\u001b[36m \u001b[0m\u001b[36m        val_loss         \u001b[0m\u001b[36m \u001b[0m│\u001b[35m \u001b[0m\u001b[35m   0.07035048305988312   \u001b[0m\u001b[35m \u001b[0m│\n",
       "└───────────────────────────┴───────────────────────────┘\n"
      ]
     },
     "metadata": {},
     "output_type": "display_data"
    },
    {
     "data": {
      "text/plain": [
       "[{'val_loss': 0.07035048305988312}]"
      ]
     },
     "execution_count": 289,
     "metadata": {},
     "output_type": "execute_result"
    }
   ],
   "source": [
    "datamodule = Datamodule(\n",
    "    datadir=Path(\"yeast_cell_in_microstructures_dataset\"),\n",
    "    dataset_class=YeastDetectionDataset,\n",
    "    batch_size=10,\n",
    ")\n",
    "\n",
    "datamodule.setup(\"fit\")\n",
    "\n",
    "trainer = L.Trainer(\n",
    "    accelerator=\"auto\",\n",
    "    max_epochs=20,\n",
    "    limit_train_batches=None,\n",
    "    limit_val_batches=None,\n",
    "    log_every_n_steps=10,\n",
    ")\n",
    "lit_module = Lit(\n",
    "    model=TinyYOLO(in_channels=1, num_anchors=len(rescaled_anchors), num_classes=2),\n",
    "    learning_rate=0.004,\n",
    ")\n",
    "trainer.fit(\n",
    "    model=lit_module,\n",
    "    datamodule=datamodule,\n",
    ")\n",
    "trainer.validate(model=lit_module, datamodule=datamodule,)"
   ]
  },
  {
   "cell_type": "code",
   "execution_count": 290,
   "metadata": {},
   "outputs": [
    {
     "data": {
      "text/plain": [
       "{'map': tensor(0.6319),\n",
       " 'map_50': tensor(0.9433),\n",
       " 'map_75': tensor(0.6974),\n",
       " 'map_small': tensor(0.6319),\n",
       " 'map_medium': tensor(-1.),\n",
       " 'map_large': tensor(-1.),\n",
       " 'mar_1': tensor(0.3297),\n",
       " 'mar_10': tensor(0.6899),\n",
       " 'mar_100': tensor(0.6908),\n",
       " 'mar_small': tensor(0.6908),\n",
       " 'mar_medium': tensor(-1.),\n",
       " 'mar_large': tensor(-1.),\n",
       " 'map_per_class': tensor([0.8170, 0.4468]),\n",
       " 'mar_100_per_class': tensor([0.8510, 0.5306]),\n",
       " 'classes': tensor([1, 2], dtype=torch.int32)}"
      ]
     },
     "execution_count": 290,
     "metadata": {},
     "output_type": "execute_result"
    }
   ],
   "source": [
    "val_loader = DataLoader(dataset=val_dataset, batch_size=batch_size, shuffle=False)\n",
    "\n",
    "metric = MeanAveragePrecision(iou_type=\"bbox\", box_format=\"cxcywh\", class_metrics=True).to(device)\n",
    "\n",
    "for x, y in val_loader:\n",
    "    predicted_boxes = []\n",
    "    target_boxes = []\n",
    "\n",
    "    preds = lit_module.model.to(device)(x.to(device))\n",
    "\n",
    "    # итерируемся по элементам батча, собирая пердсказанные и верные рамки\n",
    "    for i in range(len(y)):\n",
    "        # получаем предсказанные рамки\n",
    "        pred_boxes = cells_to_bboxes(preds[i:i+1], rescaled_anchors.to(device), is_predictions=True)\n",
    "        # ВАЖНО: делаем non-max suppression ДО расчёта метрик\n",
    "        pred_boxes = pred_boxes[nms(box_convert(pred_boxes[:, 2:], \"cxcywh\", \"xyxy\"), pred_boxes[:, 1], iou_threshold=0.3)]\n",
    "        predicted_boxes.append(\n",
    "            dict(\n",
    "                boxes=pred_boxes[:, 2:],\n",
    "                scores=pred_boxes[:, 1],\n",
    "                labels=pred_boxes[:, 0].long(),\n",
    "            )\n",
    "        )\n",
    "        # достаём правильные рамки\n",
    "        true_boxes = cells_to_bboxes(y[i:i+1], rescaled_anchors)\n",
    "        true_boxes = true_boxes[true_boxes[:, 1] == 1]\n",
    "\n",
    "        target_boxes.append(\n",
    "            dict(\n",
    "                boxes=true_boxes[:, 2:],\n",
    "                labels=true_boxes[:, 0].long(),\n",
    "            )\n",
    "        )\n",
    "    metric.update(predicted_boxes, target_boxes)\n",
    "\n",
    "metric.compute()\n"
   ]
  }
 ],
 "metadata": {
  "kernelspec": {
   "display_name": "dl-mcs",
   "language": "python",
   "name": "python3"
  },
  "language_info": {
   "codemirror_mode": {
    "name": "ipython",
    "version": 3
   },
   "file_extension": ".py",
   "mimetype": "text/x-python",
   "name": "python",
   "nbconvert_exporter": "python",
   "pygments_lexer": "ipython3",
   "version": "3.12.7"
  }
 },
 "nbformat": 4,
 "nbformat_minor": 2
}
