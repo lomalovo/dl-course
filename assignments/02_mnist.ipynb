{
 "cells": [
  {
   "cell_type": "markdown",
   "metadata": {},
   "source": [
    "## Обучаем первую модель на MNIST"
   ]
  },
  {
   "cell_type": "markdown",
   "metadata": {},
   "source": [
    "План на сегодня: пишем первый пайплайн для обучения\n",
    "\n",
    "1. Пытаемся понять, какие компоненты нам нужны для обучения любой модели\n",
    "2. Выясняем, что многое уже есть в Pytorch\n",
    "3. Собираем наш первый скрипт для обучения на датасете MNIST"
   ]
  },
  {
   "cell_type": "markdown",
   "metadata": {},
   "source": [
    "### 1. Разбираемся с данными\n",
    "\n",
    "https://pytorch.org/tutorials/beginner/basics/data_tutorial.html"
   ]
  },
  {
   "cell_type": "markdown",
   "metadata": {},
   "source": [
    "#### 1.1. Организуем доступ к данным с `torch.utils.data.Dataset`"
   ]
  },
  {
   "cell_type": "markdown",
   "metadata": {},
   "source": [
    "Датасет в pytorch - это объект класса, в котором реализовано два обязательных метода: `__getitem__(self, index: int)` (получение одиночного примера по индексу) и `__len__(self)` (получение общего количества примеров). Этих методов достаточно, чтобы разбивать датасет на минибатчи  - это работу делает класс `torch.utils.DataLoader` с помощью различных семплеров, с ними мы понакомимся позже"
   ]
  },
  {
   "cell_type": "code",
   "execution_count": 1,
   "metadata": {},
   "outputs": [
    {
     "data": {
      "text/plain": [
       "<torch._C.Generator at 0x10e2d7ed0>"
      ]
     },
     "execution_count": 1,
     "metadata": {},
     "output_type": "execute_result"
    }
   ],
   "source": [
    "import torch\n",
    "\n",
    "torch.manual_seed(42)"
   ]
  },
  {
   "cell_type": "code",
   "execution_count": 2,
   "metadata": {},
   "outputs": [
    {
     "name": "stdout",
     "output_type": "stream",
     "text": [
      "(tensor([0, 1, 2]), tensor(2))\n",
      "10\n"
     ]
    }
   ],
   "source": [
    "from torch.utils.data import Dataset\n",
    "\n",
    "\n",
    "class MyDataset(Dataset):\n",
    "    def __init__(self, n: int) -> None:\n",
    "        super().__init__()\n",
    "        self.data = torch.arange(n * 3).view((n, 3))\n",
    "        self.labels = torch.randint(0, 5, size=(n,))\n",
    "\n",
    "    def __getitem__(self, index: int) -> tuple[torch.Tensor, torch.Tensor]:\n",
    "        return self.data[index], self.labels[index]\n",
    "\n",
    "    def __len__(self) -> int:\n",
    "        return len(self.data)\n",
    "\n",
    "\n",
    "dataset = MyDataset(n=10)\n",
    "print(dataset[0])\n",
    "print(len(dataset))"
   ]
  },
  {
   "cell_type": "markdown",
   "metadata": {},
   "source": [
    "Итерируемся по датасету:"
   ]
  },
  {
   "cell_type": "code",
   "execution_count": 3,
   "metadata": {},
   "outputs": [
    {
     "name": "stdout",
     "output_type": "stream",
     "text": [
      "(tensor([0, 1, 2]), tensor(3))\n",
      "(tensor([3, 4, 5]), tensor(4))\n",
      "(tensor([6, 7, 8]), tensor(0))\n",
      "(tensor([ 9, 10, 11]), tensor(4))\n",
      "(tensor([12, 13, 14]), tensor(1))\n",
      "(tensor([15, 16, 17]), tensor(2))\n",
      "(tensor([18, 19, 20]), tensor(0))\n",
      "(tensor([21, 22, 23]), tensor(0))\n",
      "(tensor([24, 25, 26]), tensor(2))\n",
      "(tensor([27, 28, 29]), tensor(1))\n"
     ]
    }
   ],
   "source": [
    "dataset = MyDataset(10)\n",
    "for i in range(len(dataset)):\n",
    "    print(dataset[i])"
   ]
  },
  {
   "cell_type": "markdown",
   "metadata": {},
   "source": [
    "#### 1.2. Пакуем данные в батчи с `torch.utils.data.Dataloader`"
   ]
  },
  {
   "cell_type": "markdown",
   "metadata": {},
   "source": [
    "У `torch.utils.data.Dataloader` много аргументов, на практике чаще всего используются\n",
    "- `dataset` - объект, поддерживающий методы `__getitem__` и `__len__` (вопрос: можно ли передать список? словарь? множество?)\n",
    "- `batch_size` - размер мини-батча\n",
    "- `shuffle` - нужно ли перетасовать индексы перед нарезкой на минибатчи (это всегда стоит делать с обучающими данными, почему?)\n",
    "- `num_workers` - количество процессов, которые будут загружать данные - иногда позволяет ускорить обучение (подумайте, в каком случае?)"
   ]
  },
  {
   "cell_type": "code",
   "execution_count": 4,
   "metadata": {},
   "outputs": [],
   "source": [
    "from torch.utils.data import DataLoader\n",
    "\n",
    "my_loader = DataLoader(\n",
    "    dataset=dataset,\n",
    "    batch_size=4,\n",
    "    shuffle=True,\n",
    "    # drop_last=\n",
    ")"
   ]
  },
  {
   "cell_type": "code",
   "execution_count": 5,
   "metadata": {},
   "outputs": [
    {
     "name": "stdout",
     "output_type": "stream",
     "text": [
      "tensor([[24, 25, 26],\n",
      "        [ 6,  7,  8],\n",
      "        [21, 22, 23],\n",
      "        [15, 16, 17]])\n",
      "tensor([2, 0, 0, 2])\n"
     ]
    }
   ],
   "source": [
    "for i, batch in enumerate(my_loader):\n",
    "    x, y = batch\n",
    "    if i == 0:\n",
    "        print(x)\n",
    "        print(y)"
   ]
  },
  {
   "cell_type": "markdown",
   "metadata": {},
   "source": [
    "#### 1.3. Посмотрим на MNIST\n",
    "\n",
    "- какие атрибуты есть у объекта `torchvision.datasets.MNIST`?\n",
    "- как выглядит одно наблюдение?"
   ]
  },
  {
   "cell_type": "code",
   "execution_count": 6,
   "metadata": {},
   "outputs": [],
   "source": [
    "from torchvision import datasets, transforms\n",
    "\n",
    "train_dataset = datasets.MNIST(\n",
    "    \"data\",\n",
    "    train=True,\n",
    "    download=True,\n",
    "    transform=transforms.ToTensor(),  # что это?\n",
    ")\n",
    "test_dataset = datasets.MNIST(\n",
    "    \"data\",\n",
    "    train=False,\n",
    "    download=True,\n",
    "    transform=transforms.ToTensor(),\n",
    ")"
   ]
  },
  {
   "cell_type": "code",
   "execution_count": 7,
   "metadata": {},
   "outputs": [
    {
     "data": {
      "text/plain": [
       "True"
      ]
     },
     "execution_count": 7,
     "metadata": {},
     "output_type": "execute_result"
    }
   ],
   "source": [
    "isinstance(train_dataset, Dataset)"
   ]
  },
  {
   "cell_type": "code",
   "execution_count": 8,
   "metadata": {},
   "outputs": [
    {
     "name": "stdout",
     "output_type": "stream",
     "text": [
      "torch.Size([1, 28, 28])\n",
      "5\n"
     ]
    }
   ],
   "source": [
    "x, y = train_dataset[0]\n",
    "print(x.shape)\n",
    "print(y)"
   ]
  },
  {
   "cell_type": "markdown",
   "metadata": {},
   "source": [
    "**Задание 1 (1 балл)**. Используя `matplotlib`, выведите по одному примеру изображения для всех классов"
   ]
  },
  {
   "cell_type": "code",
   "execution_count": 9,
   "metadata": {},
   "outputs": [
    {
     "data": {
      "image/png": "[encoded data removed]",
      "text/plain": [
       "<Figure size 1500x300 with 10 Axes>"
      ]
     },
     "metadata": {},
     "output_type": "display_data"
    }
   ],
   "source": [
    "import matplotlib.pyplot as plt\n",
    "\n",
    "examples = {i: None for i in range(10)}\n",
    "\n",
    "for img, label in train_dataset:\n",
    "    if examples[label] is None:\n",
    "        examples[label] = img\n",
    "    if None not in examples.values():\n",
    "        break\n",
    "\n",
    "fig, axes = plt.subplots(1, 10, figsize=(15, 3))\n",
    "for i, (label, img) in enumerate(examples.items()):\n",
    "    axes[i].imshow(img.squeeze(), cmap=\"gray\")\n",
    "    axes[i].set_title(f'Label: {label}')\n",
    "    axes[i].axis('off')\n",
    "\n",
    "plt.show()\n"
   ]
  },
  {
   "cell_type": "markdown",
   "metadata": {},
   "source": [
    "Попробуем получить минибатч:"
   ]
  },
  {
   "cell_type": "code",
   "execution_count": 10,
   "metadata": {},
   "outputs": [],
   "source": [
    "batch_size = 4\n",
    "train_loader = DataLoader(train_dataset, batch_size=batch_size, shuffle=True)\n",
    "test_loader = DataLoader(test_dataset, batch_size=batch_size, shuffle=False)"
   ]
  },
  {
   "cell_type": "markdown",
   "metadata": {},
   "source": [
    "Что возвращает `iter()`?"
   ]
  },
  {
   "cell_type": "code",
   "execution_count": 11,
   "metadata": {},
   "outputs": [
    {
     "name": "stdout",
     "output_type": "stream",
     "text": [
      "torch.Size([4, 1, 28, 28])\n",
      "torch.Size([4])\n"
     ]
    }
   ],
   "source": [
    "batch: tuple[torch.Tensor, torch.Tensor] = next(iter(train_loader))\n",
    "x, y = batch\n",
    "print(x.shape)\n",
    "print(y.shape)"
   ]
  },
  {
   "cell_type": "markdown",
   "metadata": {},
   "source": [
    "Со свёрточными сетями мы познакомимся позже, сейчас же мы будем экспериментировать с обычными полносвязными сетями, но для этого нам нужно будет преобразовать форму батча из `(batch_size, channels, width, height)` в `(batch_size, channels * width * height)`:"
   ]
  },
  {
   "cell_type": "markdown",
   "metadata": {},
   "source": [
    "**Задание 2 (1 балл)**. Есть несколько способов изменить форму (shape) тензора. Приведите все знаковые вам способы привести батч с изображениями в форму `(batch_size, channels * width * height)`"
   ]
  },
  {
   "cell_type": "code",
   "execution_count": 12,
   "metadata": {},
   "outputs": [],
   "source": [
    "batch_size, channels, width, height = x.shape\n",
    "input_dim = channels * width * height\n",
    "\n",
    "x_reshaped_1 = x.view(batch_size, -1)\n",
    "x_reshaped_2 = x.reshape(batch_size, -1)\n",
    "x_reshaped_3 = x.flatten(start_dim=1)"
   ]
  },
  {
   "cell_type": "markdown",
   "metadata": {},
   "source": [
    "Ура, с данными вроде разобрались! Теперь разберёмся с моделью"
   ]
  },
  {
   "cell_type": "markdown",
   "metadata": {},
   "source": [
    "### 2. Реализуем модель с помощью `torch.nn.Module`"
   ]
  },
  {
   "cell_type": "markdown",
   "metadata": {},
   "source": [
    "#### 2.1. Описываем параметры модели и прямой проход"
   ]
  },
  {
   "cell_type": "markdown",
   "metadata": {},
   "source": [
    "Для простоты будем строить небольшую нейронку из двух полносвязных слоёв и `tanh` в качестве функции активации.\n",
    "\n",
    "$\\text{logits} = w_2^T(\\tanh(w_1^T x + b_1)) + b_2$\n",
    "\n",
    "Какие параметры должны быть в линейном слое?"
   ]
  },
  {
   "cell_type": "code",
   "execution_count": 13,
   "metadata": {},
   "outputs": [
    {
     "name": "stdout",
     "output_type": "stream",
     "text": [
      "<AddBackward0 object at 0x2897c3280>\n",
      "torch.Size([4, 128])\n",
      "<AddBackward0 object at 0x2896f0c10>\n",
      "torch.Size([4, 10])\n"
     ]
    }
   ],
   "source": [
    "hidden_dim = 128  # размерность скрытого слоя\n",
    "n_classes = 10\n",
    "\n",
    "# первый слой\n",
    "w1 = torch.randn((input_dim, hidden_dim), requires_grad=True)\n",
    "b1 = torch.randn(hidden_dim, requires_grad=True)\n",
    "\n",
    "# второй слой\n",
    "w2 = torch.randn((hidden_dim, n_classes), requires_grad=True)\n",
    "b2 = torch.randn(n_classes, requires_grad=True)\n",
    "\n",
    "h = x.flatten(1) @ w1 + b1\n",
    "print(h.grad_fn)\n",
    "print(h.shape)\n",
    "\n",
    "# применяем нелинейность перед применением следующего слоя\n",
    "h = h.tanh()\n",
    "\n",
    "h = h @ w2 + b2\n",
    "print(h.grad_fn)\n",
    "print(h.shape)"
   ]
  },
  {
   "cell_type": "code",
   "execution_count": 14,
   "metadata": {},
   "outputs": [
    {
     "data": {
      "text/plain": [
       "tensor([[  6.0172,   7.4072, -20.6861,   8.9256,  -5.4395,  -6.3682,   0.0770,\n",
       "           6.8565, -20.1673,  -9.1324],\n",
       "        [ -8.9641, -15.7704, -12.9448,   2.2937, -24.6292, -14.9430,  -0.0394,\n",
       "          -3.6719, -27.6249,  -9.3068],\n",
       "        [ -4.3937,  -0.6097, -28.6687,   7.9132, -10.3090,  -3.1383, -18.3530,\n",
       "           0.4476, -16.2507, -17.0004],\n",
       "        [ -3.8893,   4.6379,  -6.8515,  10.1379,  -4.4632,   4.5285,  -7.7709,\n",
       "          -2.0474, -12.9890,  -1.3313]], grad_fn=<AddBackward0>)"
      ]
     },
     "execution_count": 14,
     "metadata": {},
     "output_type": "execute_result"
    }
   ],
   "source": [
    "h"
   ]
  },
  {
   "cell_type": "markdown",
   "metadata": {},
   "source": [
    "Из этих выходных данных нам хотелось бы получить вероятностное распределение над возможными классами, то есть нужно как-то нормализовать эти активации, для этого обычно используется функция `softmax`:"
   ]
  },
  {
   "cell_type": "code",
   "execution_count": 15,
   "metadata": {},
   "outputs": [
    {
     "data": {
      "text/plain": [
       "tensor([0.0420, 0.2254, 0.0424, 0.1480, 0.1133, 0.0393, 0.0123, 0.0224, 0.2780,\n",
       "        0.0768])"
      ]
     },
     "execution_count": 15,
     "metadata": {},
     "output_type": "execute_result"
    }
   ],
   "source": [
    "z = torch.randn(10)\n",
    "torch.softmax(z, 0)\n",
    "# zz = torch.exp(z) / torch.exp(z).sum()\n",
    "# zz.sum()"
   ]
  },
  {
   "cell_type": "markdown",
   "metadata": {},
   "source": [
    "Применим к нашим данным:"
   ]
  },
  {
   "cell_type": "code",
   "execution_count": 16,
   "metadata": {},
   "outputs": [
    {
     "data": {
      "text/plain": [
       "tensor([[3.8971e-02, 1.5646e-01, 9.8543e-14, 7.1426e-01, 4.1224e-07, 1.6286e-07,\n",
       "         1.0255e-04, 9.0202e-02, 1.6557e-13, 1.0264e-08],\n",
       "        [1.1737e-05, 1.2991e-08, 2.1915e-07, 9.0944e-01, 1.8462e-12, 2.9712e-08,\n",
       "         8.8208e-02, 2.3332e-03, 9.2312e-14, 8.3315e-06],\n",
       "        [4.5170e-06, 1.9870e-04, 1.2952e-16, 9.9921e-01, 1.2186e-08, 1.5851e-05,\n",
       "         3.9118e-12, 5.7198e-04, 3.2019e-11, 1.5130e-11],\n",
       "        [8.0301e-07, 4.0556e-03, 4.1519e-08, 9.9229e-01, 4.5237e-07, 3.6351e-03,\n",
       "         1.6557e-08, 5.0660e-06, 8.9696e-11, 1.0367e-05]],\n",
       "       grad_fn=<SoftmaxBackward0>)"
      ]
     },
     "execution_count": 16,
     "metadata": {},
     "output_type": "execute_result"
    }
   ],
   "source": [
    "h.softmax(dim=1)"
   ]
  },
  {
   "cell_type": "markdown",
   "metadata": {},
   "source": [
    "Обратите внимание: классы получились совсем не равновероятны, хотя мы ещё не учили модель. Подумайте, почему так произошло?\n",
    "Подробнее это мы обсудим на следующей практике."
   ]
  },
  {
   "cell_type": "markdown",
   "metadata": {},
   "source": [
    "Параметры нашей модели находятся в глобальной области видимости. Решение - спрятать всё внутрь класса-наследника `torch.nn.Module`"
   ]
  },
  {
   "cell_type": "markdown",
   "metadata": {},
   "source": [
    "#### 2.2. Реализуем двуслойный перцептрон как наследник `nn.Module`"
   ]
  },
  {
   "cell_type": "markdown",
   "metadata": {},
   "source": [
    "**Задание 3 (1 балл)**. Прочитайте документацию к классам `torch.nn.Module` и `torch.nn.Parameter`. Почему при задании параметров модели не стоит их создавать просто как `torch.tensor(..., requires_grad=True)`?"
   ]
  },
  {
   "cell_type": "code",
   "execution_count": 17,
   "metadata": {},
   "outputs": [],
   "source": [
    "#ВАШ ХОД\n",
    "\n",
    "#`torch.nn.Module` и `torch.nn.Parameter` тесно интегрированы. Если задать атрибут модели с использованием `nn.Parameter`, \n",
    "# он автоматически будет включён в список параметров модели, что позволяет корректно передавать его оптимизатору. \n",
    "# В отличие от этого, если просто присвоить атрибуту тензор, \n",
    "# он не будет учтён как параметр модели и не будет обновляться оптимизатором."
   ]
  },
  {
   "cell_type": "markdown",
   "metadata": {},
   "source": [
    "**Задание 4 (1 балл)**. Чтобы сделать наш модуль рабочим, нужно определить два метода: `__init__` и `forward`. Реализуйте метод `forward`, который возвращает логиты, т. е. выход последнего линейного слоя без применения функции активации `softmax`"
   ]
  },
  {
   "cell_type": "code",
   "execution_count": 18,
   "metadata": {},
   "outputs": [],
   "source": [
    "class SimpleNet(torch.nn.Module):\n",
    "    def __init__(self, input_dim: int, hidden_dim: int, output_dim: int) -> None:\n",
    "        super().__init__()\n",
    "        self.w1 = torch.nn.Parameter(torch.randn(input_dim, hidden_dim))\n",
    "        self.b1 = torch.nn.Parameter(torch.randn(hidden_dim))\n",
    "\n",
    "        self.w2 = torch.nn.Parameter(torch.randn(hidden_dim, output_dim))\n",
    "        self.b2 = torch.nn.Parameter(torch.randn(output_dim))\n",
    "\n",
    "    def forward(self, x: torch.Tensor) -> torch.Tensor:\n",
    "        logits = (x.flatten(1) @ self.w1 + self.b1).tanh() @ self.w2 + self.b2\n",
    "        return logits"
   ]
  },
  {
   "cell_type": "code",
   "execution_count": 19,
   "metadata": {},
   "outputs": [
    {
     "data": {
      "text/plain": [
       "torch.Size([4, 10])"
      ]
     },
     "execution_count": 19,
     "metadata": {},
     "output_type": "execute_result"
    }
   ],
   "source": [
    "model = SimpleNet(input_dim, hidden_dim, n_classes)\n",
    "model(x).shape"
   ]
  },
  {
   "cell_type": "markdown",
   "metadata": {},
   "source": [
    "Параметры модели:"
   ]
  },
  {
   "cell_type": "code",
   "execution_count": 20,
   "metadata": {},
   "outputs": [
    {
     "data": {
      "text/plain": [
       "[('w1',\n",
       "  Parameter containing:\n",
       "  tensor([[-1.2292, -1.0120,  0.4707,  ..., -0.0728, -0.6880, -0.4777],\n",
       "          [ 0.3049, -0.1532, -0.9360,  ..., -0.4225,  1.4490, -1.4940],\n",
       "          [-0.2417,  0.1200,  2.0957,  ..., -1.5898, -0.7208, -0.7473],\n",
       "          ...,\n",
       "          [ 1.0767,  0.5517, -0.3984,  ..., -1.2501, -0.5982,  1.5680],\n",
       "          [-0.8215,  0.8184, -1.3175,  ..., -0.2640,  1.2872, -2.1384],\n",
       "          [-0.9900,  0.2295, -0.0511,  ...,  1.2163, -0.0432,  0.2473]],\n",
       "         requires_grad=True)),\n",
       " ('b1',\n",
       "  Parameter containing:\n",
       "  tensor([ 0.0455, -0.4694, -0.6163, -0.9565,  0.9412, -2.0597,  0.8542, -1.0297,\n",
       "          -0.4305, -0.0911, -0.0372,  0.9671,  0.3460, -0.2004,  1.2349, -0.2132,\n",
       "           0.3037,  0.6809, -1.4601, -2.1847, -1.1509,  0.6184,  0.1307,  0.6123,\n",
       "           0.4117,  0.5679, -1.0337,  1.2653, -1.4532, -0.0134,  0.0051,  0.3899,\n",
       "           1.4850, -0.2099, -1.0838, -0.2242, -0.7229,  0.0957,  0.8528, -1.3629,\n",
       "           0.2486,  0.4181,  0.9491,  1.0454,  1.0737, -1.9635,  0.0171,  0.9307,\n",
       "          -0.2122,  0.0204,  0.5377, -0.5969,  1.2541,  0.0887, -0.3743, -0.2694,\n",
       "          -0.6991,  0.0542, -1.4888,  0.7427,  0.7323, -1.2028,  0.2734,  0.6461,\n",
       "           0.1553,  1.4138, -0.3121, -0.2429, -0.6519, -0.6571, -0.2563, -1.2612,\n",
       "          -1.0530, -0.9300, -0.1610, -0.1113, -0.3058, -1.8905,  0.4953, -0.3963,\n",
       "          -1.6818,  0.3714,  0.6923,  0.5177, -0.5238,  0.3190, -0.1159, -0.5549,\n",
       "          -1.1374, -0.0827, -0.3218,  0.0387, -0.2934,  0.2791, -0.7186, -1.4691,\n",
       "           0.1718, -0.6585, -1.0450, -0.9719, -1.0089, -0.4989, -0.8218,  1.0611,\n",
       "           0.5773, -1.0302,  0.8653, -0.8490, -0.3620, -1.9474,  1.0786,  0.5214,\n",
       "           0.2878,  0.9044, -0.2266, -0.1701, -0.0971, -1.4061,  1.4639, -0.5262,\n",
       "           1.2787,  2.0971, -1.4370, -0.6771,  0.9290, -0.0264, -0.0942, -0.8176],\n",
       "         requires_grad=True)),\n",
       " ('w2',\n",
       "  Parameter containing:\n",
       "  tensor([[ 0.4460,  0.3349, -0.7410,  ...,  0.0740,  1.6430,  0.5359],\n",
       "          [-2.3654,  0.3553,  0.1256,  ..., -0.0950, -1.8155,  1.2051],\n",
       "          [-0.6183,  0.1571,  0.4559,  ...,  1.2749, -0.9803,  0.4386],\n",
       "          ...,\n",
       "          [-0.0512,  1.3929,  1.5248,  ...,  0.9805,  0.0346, -0.0602],\n",
       "          [ 1.0721, -1.1995,  1.1074,  ..., -0.0248,  0.4186,  1.0637],\n",
       "          [-0.2521, -0.1926,  0.1326,  ...,  1.2250, -0.2569, -0.4325]],\n",
       "         requires_grad=True)),\n",
       " ('b2',\n",
       "  Parameter containing:\n",
       "  tensor([ 0.1960, -0.3484, -0.3309,  0.1433, -0.7052, -1.7221, -0.3078,  0.4789,\n",
       "          -0.3878, -0.2103], requires_grad=True))]"
      ]
     },
     "execution_count": 20,
     "metadata": {},
     "output_type": "execute_result"
    }
   ],
   "source": [
    "list(model.named_parameters())"
   ]
  },
  {
   "cell_type": "markdown",
   "metadata": {},
   "source": [
    "Вручную обновлять значения многих параметров очень неудобно. К счастью, за нас это сделает оптимизатор"
   ]
  },
  {
   "cell_type": "code",
   "execution_count": 21,
   "metadata": {},
   "outputs": [
    {
     "name": "stdout",
     "output_type": "stream",
     "text": [
      "SGD (\n",
      "Parameter Group 0\n",
      "    dampening: 0\n",
      "    differentiable: False\n",
      "    foreach: None\n",
      "    fused: None\n",
      "    lr: 0.01\n",
      "    maximize: False\n",
      "    momentum: 0\n",
      "    nesterov: False\n",
      "    weight_decay: 0\n",
      ")\n"
     ]
    }
   ],
   "source": [
    "optimizer = torch.optim.SGD(params=model.parameters(), lr=0.01)\n",
    "print(optimizer)"
   ]
  },
  {
   "cell_type": "markdown",
   "metadata": {},
   "source": [
    "#### 2.1. Считаем ошибку и градиенты на одном минибатче"
   ]
  },
  {
   "cell_type": "code",
   "execution_count": 22,
   "metadata": {},
   "outputs": [
    {
     "name": "stdout",
     "output_type": "stream",
     "text": [
      "tensor(23.9353, grad_fn=<NllLossBackward0>)\n"
     ]
    }
   ],
   "source": [
    "# получим предсказания и посчитаем ошибку\n",
    "predictions = model.forward(x)\n",
    "loss = torch.nn.functional.cross_entropy(predictions, y)\n",
    "print(loss)\n",
    "# рассчитаем градиенты и обновим параметры\n",
    "loss.backward()\n",
    "optimizer.step()\n",
    "\n",
    "# не забудем почистить градиенты, мы не хотим их накапливать\n",
    "optimizer.zero_grad()"
   ]
  },
  {
   "cell_type": "markdown",
   "metadata": {},
   "source": [
    "**Задание 5 (1 балл)**: Посчитайте значение перекрёстной энтропии самостоятельно по формуле, сверьтесь с результатом выше"
   ]
  },
  {
   "cell_type": "code",
   "execution_count": 23,
   "metadata": {},
   "outputs": [],
   "source": [
    "# посчитайте ce_loss на основе значений переменных `predictions` и `y`\n",
    "# ВАШ ХОД\n",
    "log_probs = torch.nn.functional.log_softmax(predictions, dim=1)\n",
    "true_class_log_probs = log_probs[torch.arange(len(y)), y]\n",
    "ce_loss = -torch.mean(true_class_log_probs)\n",
    "assert torch.allclose(ce_loss, loss), f\"{ce_loss} != {loss}\""
   ]
  },
  {
   "cell_type": "markdown",
   "metadata": {},
   "source": [
    "### 3. Обучение"
   ]
  },
  {
   "cell_type": "markdown",
   "metadata": {},
   "source": [
    "#### 3.1. Шаг обучения: что мы делаем с каждым минибатчем данных"
   ]
  },
  {
   "cell_type": "code",
   "execution_count": 24,
   "metadata": {},
   "outputs": [],
   "source": [
    "def training_step(\n",
    "    batch: tuple[torch.Tensor, torch.Tensor],\n",
    "    model: torch.nn.Module,\n",
    "    optimizer: torch.optim.Optimizer,\n",
    ") -> tuple[torch.Tensor, torch.Tensor]:\n",
    "    # прогоняем батч через модель\n",
    "    x, y = batch\n",
    "    predictions = model(x)\n",
    "    # оцениваем значение ошибки\n",
    "    loss = torch.nn.functional.cross_entropy(predictions, y)\n",
    "    # обновляем параметры\n",
    "    loss.backward()\n",
    "    optimizer.step()\n",
    "    optimizer.zero_grad()\n",
    "    # возвращаем значение функции ошибки для логирования\n",
    "    return loss, predictions"
   ]
  },
  {
   "cell_type": "markdown",
   "metadata": {},
   "source": [
    "Для тестовых батчей нам не нужны градиенты, поэтому расчёты делаем внутри контекста `torch.no_grad`"
   ]
  },
  {
   "cell_type": "code",
   "execution_count": 25,
   "metadata": {},
   "outputs": [],
   "source": [
    "def test_step(\n",
    "    batch: tuple[torch.Tensor, torch.Tensor], model: torch.nn.Module\n",
    ") -> tuple[torch.Tensor, torch.Tensor]:\n",
    "    x, y = batch\n",
    "    with torch.no_grad():\n",
    "        predictions = model(x)\n",
    "        # оцениваем значение ошибки\n",
    "        loss = torch.nn.functional.cross_entropy(predictions, y)\n",
    "    return loss, predictions"
   ]
  },
  {
   "cell_type": "markdown",
   "metadata": {},
   "source": [
    "#### 3.2. А теперь: что мы хотим делать в каждой эпохе?"
   ]
  },
  {
   "cell_type": "markdown",
   "metadata": {},
   "source": [
    "**Задание 6 (2 балла)**: Напишите функцию для запуска одной эпохи (обучающей или тестовой), которая итерируется по минибатчам, обрабатывает их и в конце выводит среднюю ошибку и точность классификации. Запустите обучение на 10-15 эпох, добейтесь точности более 92% на тестовой выборке."
   ]
  },
  {
   "cell_type": "code",
   "execution_count": 26,
   "metadata": {},
   "outputs": [],
   "source": [
    "def run_epoch(\n",
    "    is_train: bool,\n",
    "    dataloader: DataLoader,\n",
    "    model: torch.nn.Module,\n",
    "    optimizer: torch.optim.Optimizer,\n",
    ") -> None:\n",
    "    # ВАШ ХОД\n",
    "    total_loss = 0.0\n",
    "    correct_predictions = 0\n",
    "    total_samples = 0\n",
    "\n",
    "    for batch in dataloader:\n",
    "        x, y = batch\n",
    "        \n",
    "        if is_train:\n",
    "            loss, predictions = training_step((x, y), model, optimizer)\n",
    "        else:\n",
    "            loss, predictions = test_step((x, y), model)\n",
    "        \n",
    "        total_loss += loss.item()\n",
    "        \n",
    "        _, predicted_labels = torch.max(predictions, dim=1)\n",
    "        \n",
    "        correct_predictions += (predicted_labels == y).sum().item()\n",
    "        \n",
    "        total_samples += y.size(0)\n",
    "    \n",
    "    epoch_loss = total_loss / len(dataloader)\n",
    "    accuracy = correct_predictions / total_samples\n",
    "    print(f\"{'Train' if is_train else 'Test'} - Loss: {epoch_loss:.4f}, Accuracy: {accuracy:.4f}\")\n"
   ]
  },
  {
   "cell_type": "markdown",
   "metadata": {},
   "source": [
    "Создадим модель, оптимизатор и загрузчики данных и запустим обучение:"
   ]
  },
  {
   "cell_type": "code",
   "execution_count": 27,
   "metadata": {},
   "outputs": [
    {
     "name": "stdout",
     "output_type": "stream",
     "text": [
      "Epoch 0 train:\n",
      "Train - Loss: 1.5844, Accuracy: 0.7650\n",
      "Epoch 0 test:\n",
      "Test - Loss: 0.7284, Accuracy: 0.8579\n",
      "Epoch 1 train:\n",
      "Train - Loss: 0.6006, Accuracy: 0.8687\n",
      "Epoch 1 test:\n",
      "Test - Loss: 0.5277, Accuracy: 0.8817\n",
      "Epoch 2 train:\n",
      "Train - Loss: 0.4296, Accuracy: 0.8952\n",
      "Epoch 2 test:\n",
      "Test - Loss: 0.4370, Accuracy: 0.8928\n",
      "Epoch 3 train:\n",
      "Train - Loss: 0.3497, Accuracy: 0.9084\n",
      "Epoch 3 test:\n",
      "Test - Loss: 0.3935, Accuracy: 0.8975\n",
      "Epoch 4 train:\n",
      "Train - Loss: 0.3013, Accuracy: 0.9174\n",
      "Epoch 4 test:\n",
      "Test - Loss: 0.3612, Accuracy: 0.9056\n",
      "Epoch 5 train:\n",
      "Train - Loss: 0.2707, Accuracy: 0.9226\n",
      "Epoch 5 test:\n",
      "Test - Loss: 0.3374, Accuracy: 0.9083\n",
      "Epoch 6 train:\n",
      "Train - Loss: 0.2477, Accuracy: 0.9290\n",
      "Epoch 6 test:\n",
      "Test - Loss: 0.3265, Accuracy: 0.9103\n",
      "Epoch 7 train:\n",
      "Train - Loss: 0.2308, Accuracy: 0.9325\n",
      "Epoch 7 test:\n",
      "Test - Loss: 0.3104, Accuracy: 0.9127\n",
      "Epoch 8 train:\n",
      "Train - Loss: 0.2165, Accuracy: 0.9370\n",
      "Epoch 8 test:\n",
      "Test - Loss: 0.3003, Accuracy: 0.9161\n",
      "Epoch 9 train:\n",
      "Train - Loss: 0.2050, Accuracy: 0.9396\n",
      "Epoch 9 test:\n",
      "Test - Loss: 0.2915, Accuracy: 0.9182\n",
      "Epoch 10 train:\n",
      "Train - Loss: 0.1951, Accuracy: 0.9420\n",
      "Epoch 10 test:\n",
      "Test - Loss: 0.2887, Accuracy: 0.9188\n",
      "Epoch 11 train:\n",
      "Train - Loss: 0.1863, Accuracy: 0.9447\n",
      "Epoch 11 test:\n",
      "Test - Loss: 0.2776, Accuracy: 0.9219\n",
      "Epoch 12 train:\n",
      "Train - Loss: 0.1787, Accuracy: 0.9467\n",
      "Epoch 12 test:\n",
      "Test - Loss: 0.2725, Accuracy: 0.9239\n",
      "Epoch 13 train:\n",
      "Train - Loss: 0.1717, Accuracy: 0.9489\n",
      "Epoch 13 test:\n",
      "Test - Loss: 0.2749, Accuracy: 0.9251\n",
      "Epoch 14 train:\n",
      "Train - Loss: 0.1655, Accuracy: 0.9502\n",
      "Epoch 14 test:\n",
      "Test - Loss: 0.2686, Accuracy: 0.9245\n"
     ]
    }
   ],
   "source": [
    "n_epochs = 15\n",
    "for i in range(n_epochs):\n",
    "    print(f\"Epoch {i} train:\")\n",
    "    run_epoch(True, train_loader, model, optimizer)\n",
    "    print(f\"Epoch {i} test:\")\n",
    "    run_epoch(False, test_loader, model, optimizer)"
   ]
  }
 ],
 "metadata": {
  "kernelspec": {
   "display_name": "dl-course",
   "language": "python",
   "name": "python3"
  },
  "language_info": {
   "codemirror_mode": {
    "name": "ipython",
    "version": 3
   },
   "file_extension": ".py",
   "mimetype": "text/x-python",
   "name": "python",
   "nbconvert_exporter": "python",
   "pygments_lexer": "ipython3",
   "version": "3.12.5"
  },
  "orig_nbformat": 4
 },
 "nbformat": 4,
 "nbformat_minor": 2
}
